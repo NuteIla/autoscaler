{
 "cells": [
  {
   "cell_type": "code",
   "execution_count": 1,
   "id": "3b33879b",
   "metadata": {
    "execution": {
     "iopub.execute_input": "2024-11-24T00:29:53.950606Z",
     "iopub.status.busy": "2024-11-24T00:29:53.950190Z",
     "iopub.status.idle": "2024-11-24T00:30:47.092475Z",
     "shell.execute_reply": "2024-11-24T00:30:47.091277Z"
    },
    "papermill": {
     "duration": 53.153209,
     "end_time": "2024-11-24T00:30:47.095520",
     "exception": false,
     "start_time": "2024-11-24T00:29:53.942311",
     "status": "completed"
    },
    "tags": []
   },
   "outputs": [
    {
     "name": "stdout",
     "output_type": "stream",
     "text": [
      "Collecting sdv\r\n",
      "  Downloading sdv-1.17.2-py3-none-any.whl.metadata (13 kB)\r\n",
      "Collecting boto3<2.0.0,>=1.28 (from sdv)\r\n",
      "  Downloading boto3-1.35.68-py3-none-any.whl.metadata (6.7 kB)\r\n",
      "Requirement already satisfied: botocore<2.0.0,>=1.31 in /opt/conda/lib/python3.10/site-packages (from sdv) (1.35.23)\r\n",
      "Requirement already satisfied: cloudpickle>=2.1.0 in /opt/conda/lib/python3.10/site-packages (from sdv) (3.0.0)\r\n",
      "Requirement already satisfied: graphviz>=0.13.2 in /opt/conda/lib/python3.10/site-packages (from sdv) (0.20.3)\r\n",
      "Requirement already satisfied: tqdm>=4.29 in /opt/conda/lib/python3.10/site-packages (from sdv) (4.66.4)\r\n",
      "Collecting copulas>=0.12.0 (from sdv)\r\n",
      "  Downloading copulas-0.12.0-py3-none-any.whl.metadata (9.1 kB)\r\n",
      "Collecting ctgan>=0.10.2 (from sdv)\r\n",
      "  Downloading ctgan-0.10.2-py3-none-any.whl.metadata (10 kB)\r\n",
      "Collecting deepecho>=0.6.1 (from sdv)\r\n",
      "  Downloading deepecho-0.6.1-py3-none-any.whl.metadata (10 kB)\r\n",
      "Collecting rdt>=1.13.1 (from sdv)\r\n",
      "  Downloading rdt-1.13.1-py3-none-any.whl.metadata (10 kB)\r\n",
      "Collecting sdmetrics>=0.17.0 (from sdv)\r\n",
      "  Downloading sdmetrics-0.17.0-py3-none-any.whl.metadata (8.7 kB)\r\n",
      "Collecting platformdirs>=4.0 (from sdv)\r\n",
      "  Downloading platformdirs-4.3.6-py3-none-any.whl.metadata (11 kB)\r\n",
      "Requirement already satisfied: pyyaml>=6.0.1 in /opt/conda/lib/python3.10/site-packages (from sdv) (6.0.2)\r\n",
      "Requirement already satisfied: pandas>=1.4.0 in /opt/conda/lib/python3.10/site-packages (from sdv) (2.2.3)\r\n",
      "Requirement already satisfied: numpy>=1.23.3 in /opt/conda/lib/python3.10/site-packages (from sdv) (1.26.4)\r\n",
      "Collecting botocore<2.0.0,>=1.31 (from sdv)\r\n",
      "  Downloading botocore-1.35.68-py3-none-any.whl.metadata (5.7 kB)\r\n",
      "Requirement already satisfied: jmespath<2.0.0,>=0.7.1 in /opt/conda/lib/python3.10/site-packages (from boto3<2.0.0,>=1.28->sdv) (1.0.1)\r\n",
      "Collecting s3transfer<0.11.0,>=0.10.0 (from boto3<2.0.0,>=1.28->sdv)\r\n",
      "  Downloading s3transfer-0.10.4-py3-none-any.whl.metadata (1.7 kB)\r\n",
      "Requirement already satisfied: python-dateutil<3.0.0,>=2.1 in /opt/conda/lib/python3.10/site-packages (from botocore<2.0.0,>=1.31->sdv) (2.9.0.post0)\r\n",
      "Requirement already satisfied: urllib3!=2.2.0,<3,>=1.25.4 in /opt/conda/lib/python3.10/site-packages (from botocore<2.0.0,>=1.31->sdv) (1.26.18)\r\n",
      "Requirement already satisfied: plotly>=5.10.0 in /opt/conda/lib/python3.10/site-packages (from copulas>=0.12.0->sdv) (5.22.0)\r\n",
      "Requirement already satisfied: scipy>=1.9.2 in /opt/conda/lib/python3.10/site-packages (from copulas>=0.12.0->sdv) (1.14.1)\r\n",
      "Requirement already satisfied: torch>=1.11.0 in /opt/conda/lib/python3.10/site-packages (from ctgan>=0.10.2->sdv) (2.4.0+cpu)\r\n",
      "Requirement already satisfied: pytz>=2020.1 in /opt/conda/lib/python3.10/site-packages (from pandas>=1.4.0->sdv) (2024.1)\r\n",
      "Requirement already satisfied: tzdata>=2022.7 in /opt/conda/lib/python3.10/site-packages (from pandas>=1.4.0->sdv) (2024.1)\r\n",
      "Collecting Faker>=17 (from rdt>=1.13.1->sdv)\r\n",
      "  Downloading Faker-33.0.0-py3-none-any.whl.metadata (15 kB)\r\n",
      "Requirement already satisfied: scikit-learn>=1.1.0 in /opt/conda/lib/python3.10/site-packages (from rdt>=1.13.1->sdv) (1.2.2)\r\n",
      "Requirement already satisfied: typing-extensions in /opt/conda/lib/python3.10/site-packages (from Faker>=17->rdt>=1.13.1->sdv) (4.12.2)\r\n",
      "Requirement already satisfied: tenacity>=6.2.0 in /opt/conda/lib/python3.10/site-packages (from plotly>=5.10.0->copulas>=0.12.0->sdv) (8.3.0)\r\n",
      "Requirement already satisfied: packaging in /opt/conda/lib/python3.10/site-packages (from plotly>=5.10.0->copulas>=0.12.0->sdv) (21.3)\r\n",
      "Requirement already satisfied: six>=1.5 in /opt/conda/lib/python3.10/site-packages (from python-dateutil<3.0.0,>=2.1->botocore<2.0.0,>=1.31->sdv) (1.16.0)\r\n",
      "Requirement already satisfied: joblib>=1.1.1 in /opt/conda/lib/python3.10/site-packages (from scikit-learn>=1.1.0->rdt>=1.13.1->sdv) (1.4.2)\r\n",
      "Requirement already satisfied: threadpoolctl>=2.0.0 in /opt/conda/lib/python3.10/site-packages (from scikit-learn>=1.1.0->rdt>=1.13.1->sdv) (3.5.0)\r\n",
      "Requirement already satisfied: filelock in /opt/conda/lib/python3.10/site-packages (from torch>=1.11.0->ctgan>=0.10.2->sdv) (3.15.1)\r\n",
      "Requirement already satisfied: sympy in /opt/conda/lib/python3.10/site-packages (from torch>=1.11.0->ctgan>=0.10.2->sdv) (1.12)\r\n",
      "Requirement already satisfied: networkx in /opt/conda/lib/python3.10/site-packages (from torch>=1.11.0->ctgan>=0.10.2->sdv) (3.3)\r\n",
      "Requirement already satisfied: jinja2 in /opt/conda/lib/python3.10/site-packages (from torch>=1.11.0->ctgan>=0.10.2->sdv) (3.1.4)\r\n",
      "Requirement already satisfied: fsspec in /opt/conda/lib/python3.10/site-packages (from torch>=1.11.0->ctgan>=0.10.2->sdv) (2024.6.1)\r\n",
      "Requirement already satisfied: MarkupSafe>=2.0 in /opt/conda/lib/python3.10/site-packages (from jinja2->torch>=1.11.0->ctgan>=0.10.2->sdv) (2.1.5)\r\n",
      "Requirement already satisfied: pyparsing!=3.0.5,>=2.0.2 in /opt/conda/lib/python3.10/site-packages (from packaging->plotly>=5.10.0->copulas>=0.12.0->sdv) (3.1.2)\r\n",
      "Requirement already satisfied: mpmath>=0.19 in /opt/conda/lib/python3.10/site-packages (from sympy->torch>=1.11.0->ctgan>=0.10.2->sdv) (1.3.0)\r\n",
      "Downloading sdv-1.17.2-py3-none-any.whl (154 kB)\r\n",
      "\u001b[2K   \u001b[90m━━━━━━━━━━━━━━━━━━━━━━━━━━━━━━━━━━━━━━━━\u001b[0m \u001b[32m154.0/154.0 kB\u001b[0m \u001b[31m4.4 MB/s\u001b[0m eta \u001b[36m0:00:00\u001b[0m\r\n",
      "\u001b[?25hDownloading boto3-1.35.68-py3-none-any.whl (139 kB)\r\n",
      "\u001b[2K   \u001b[90m━━━━━━━━━━━━━━━━━━━━━━━━━━━━━━━━━━━━━━━━\u001b[0m \u001b[32m139.2/139.2 kB\u001b[0m \u001b[31m8.2 MB/s\u001b[0m eta \u001b[36m0:00:00\u001b[0m\r\n",
      "\u001b[?25hDownloading botocore-1.35.68-py3-none-any.whl (13.0 MB)\r\n",
      "\u001b[2K   \u001b[90m━━━━━━━━━━━━━━━━━━━━━━━━━━━━━━━━━━━━━━━━\u001b[0m \u001b[32m13.0/13.0 MB\u001b[0m \u001b[31m72.8 MB/s\u001b[0m eta \u001b[36m0:00:00\u001b[0m\r\n",
      "\u001b[?25hDownloading copulas-0.12.0-py3-none-any.whl (52 kB)\r\n",
      "\u001b[2K   \u001b[90m━━━━━━━━━━━━━━━━━━━━━━━━━━━━━━━━━━━━━━━━\u001b[0m \u001b[32m52.4/52.4 kB\u001b[0m \u001b[31m3.1 MB/s\u001b[0m eta \u001b[36m0:00:00\u001b[0m\r\n",
      "\u001b[?25hDownloading ctgan-0.10.2-py3-none-any.whl (23 kB)\r\n",
      "Downloading deepecho-0.6.1-py3-none-any.whl (27 kB)\r\n",
      "Downloading platformdirs-4.3.6-py3-none-any.whl (18 kB)\r\n",
      "Downloading rdt-1.13.1-py3-none-any.whl (66 kB)\r\n",
      "\u001b[2K   \u001b[90m━━━━━━━━━━━━━━━━━━━━━━━━━━━━━━━━━━━━━━━━\u001b[0m \u001b[32m66.8/66.8 kB\u001b[0m \u001b[31m4.0 MB/s\u001b[0m eta \u001b[36m0:00:00\u001b[0m\r\n",
      "\u001b[?25hDownloading sdmetrics-0.17.0-py3-none-any.whl (174 kB)\r\n",
      "\u001b[2K   \u001b[90m━━━━━━━━━━━━━━━━━━━━━━━━━━━━━━━━━━━━━━━━\u001b[0m \u001b[32m174.7/174.7 kB\u001b[0m \u001b[31m10.4 MB/s\u001b[0m eta \u001b[36m0:00:00\u001b[0m\r\n",
      "\u001b[?25hDownloading Faker-33.0.0-py3-none-any.whl (1.9 MB)\r\n",
      "\u001b[2K   \u001b[90m━━━━━━━━━━━━━━━━━━━━━━━━━━━━━━━━━━━━━━━━\u001b[0m \u001b[32m1.9/1.9 MB\u001b[0m \u001b[31m53.5 MB/s\u001b[0m eta \u001b[36m0:00:00\u001b[0m\r\n",
      "\u001b[?25hDownloading s3transfer-0.10.4-py3-none-any.whl (83 kB)\r\n",
      "\u001b[2K   \u001b[90m━━━━━━━━━━━━━━━━━━━━━━━━━━━━━━━━━━━━━━━━\u001b[0m \u001b[32m83.2/83.2 kB\u001b[0m \u001b[31m5.2 MB/s\u001b[0m eta \u001b[36m0:00:00\u001b[0m\r\n",
      "\u001b[?25hInstalling collected packages: platformdirs, Faker, botocore, s3transfer, rdt, deepecho, copulas, sdmetrics, ctgan, boto3, sdv\r\n",
      "  Attempting uninstall: platformdirs\r\n",
      "    Found existing installation: platformdirs 3.11.0\r\n",
      "    Uninstalling platformdirs-3.11.0:\r\n",
      "      Successfully uninstalled platformdirs-3.11.0\r\n",
      "  Attempting uninstall: botocore\r\n",
      "    Found existing installation: botocore 1.35.23\r\n",
      "    Uninstalling botocore-1.35.23:\r\n",
      "      Successfully uninstalled botocore-1.35.23\r\n",
      "  Attempting uninstall: s3transfer\r\n",
      "    Found existing installation: s3transfer 0.6.2\r\n",
      "    Uninstalling s3transfer-0.6.2:\r\n",
      "      Successfully uninstalled s3transfer-0.6.2\r\n",
      "  Attempting uninstall: boto3\r\n",
      "    Found existing installation: boto3 1.26.100\r\n",
      "    Uninstalling boto3-1.26.100:\r\n",
      "      Successfully uninstalled boto3-1.26.100\r\n",
      "\u001b[31mERROR: pip's dependency resolver does not currently take into account all the packages that are installed. This behaviour is the source of the following dependency conflicts.\r\n",
      "aiobotocore 2.15.1 requires botocore<1.35.24,>=1.35.16, but you have botocore 1.35.68 which is incompatible.\r\n",
      "conda 24.9.0 requires packaging>=23.0, but you have packaging 21.3 which is incompatible.\r\n",
      "jupyterlab 4.2.5 requires jupyter-lsp>=2.0.0, but you have jupyter-lsp 1.5.1 which is incompatible.\r\n",
      "jupyterlab-lsp 5.1.0 requires jupyter-lsp>=2.0.0, but you have jupyter-lsp 1.5.1 which is incompatible.\r\n",
      "libpysal 4.9.2 requires packaging>=22, but you have packaging 21.3 which is incompatible.\r\n",
      "libpysal 4.9.2 requires shapely>=2.0.1, but you have shapely 1.8.5.post1 which is incompatible.\r\n",
      "virtualenv 20.21.0 requires platformdirs<4,>=2.4, but you have platformdirs 4.3.6 which is incompatible.\u001b[0m\u001b[31m\r\n",
      "\u001b[0mSuccessfully installed Faker-33.0.0 boto3-1.35.68 botocore-1.35.68 copulas-0.12.0 ctgan-0.10.2 deepecho-0.6.1 platformdirs-4.2.2 rdt-1.13.1 s3transfer-0.10.4 sdmetrics-0.17.0 sdv-1.17.2\r\n",
      "Requirement already satisfied: pandas in /opt/conda/lib/python3.10/site-packages (2.2.3)\r\n",
      "Requirement already satisfied: numpy>=1.22.4 in /opt/conda/lib/python3.10/site-packages (from pandas) (1.26.4)\r\n",
      "Requirement already satisfied: python-dateutil>=2.8.2 in /opt/conda/lib/python3.10/site-packages (from pandas) (2.9.0.post0)\r\n",
      "Requirement already satisfied: pytz>=2020.1 in /opt/conda/lib/python3.10/site-packages (from pandas) (2024.1)\r\n",
      "Requirement already satisfied: tzdata>=2022.7 in /opt/conda/lib/python3.10/site-packages (from pandas) (2024.1)\r\n",
      "Requirement already satisfied: six>=1.5 in /opt/conda/lib/python3.10/site-packages (from python-dateutil>=2.8.2->pandas) (1.16.0)\r\n",
      "Requirement already satisfied: scikit-learn in /opt/conda/lib/python3.10/site-packages (1.2.2)\r\n",
      "Requirement already satisfied: numpy>=1.17.3 in /opt/conda/lib/python3.10/site-packages (from scikit-learn) (1.26.4)\r\n",
      "Requirement already satisfied: scipy>=1.3.2 in /opt/conda/lib/python3.10/site-packages (from scikit-learn) (1.14.1)\r\n",
      "Requirement already satisfied: joblib>=1.1.1 in /opt/conda/lib/python3.10/site-packages (from scikit-learn) (1.4.2)\r\n",
      "Requirement already satisfied: threadpoolctl>=2.0.0 in /opt/conda/lib/python3.10/site-packages (from scikit-learn) (3.5.0)\r\n",
      "\u001b[31mERROR: Could not find a version that satisfies the requirement io (from versions: none)\u001b[0m\u001b[31m\r\n",
      "\u001b[0m\u001b[31mERROR: No matching distribution found for io\u001b[0m\u001b[31m\r\n",
      "\u001b[0mRequirement already satisfied: numpy in /opt/conda/lib/python3.10/site-packages (1.26.4)\r\n"
     ]
    }
   ],
   "source": [
    "!pip install sdv\n",
    "!pip install pandas\n",
    "!pip install scikit-learn\n",
    "!pip install io\n",
    "!pip install numpy"
   ]
  },
  {
   "cell_type": "code",
   "execution_count": 2,
   "id": "072b2234",
   "metadata": {
    "execution": {
     "iopub.execute_input": "2024-11-24T00:30:47.115118Z",
     "iopub.status.busy": "2024-11-24T00:30:47.114723Z",
     "iopub.status.idle": "2024-11-24T00:30:54.885581Z",
     "shell.execute_reply": "2024-11-24T00:30:54.884514Z"
    },
    "papermill": {
     "duration": 7.783616,
     "end_time": "2024-11-24T00:30:54.888038",
     "exception": false,
     "start_time": "2024-11-24T00:30:47.104422",
     "status": "completed"
    },
    "tags": []
   },
   "outputs": [],
   "source": [
    "import kagglehub\n",
    "from sdv.single_table import CTGANSynthesizer\n",
    "import pandas as pd\n",
    "import numpy as np\n",
    "from sklearn import preprocessing \n",
    "from io import StringIO\n",
    "from collections import defaultdict\n",
    "\n",
    "from sdv.metadata import Metadata\n",
    "from sdv.evaluation.single_table import evaluate_quality\n"
   ]
  },
  {
   "cell_type": "code",
   "execution_count": 3,
   "id": "0af226e8",
   "metadata": {
    "execution": {
     "iopub.execute_input": "2024-11-24T00:30:54.908752Z",
     "iopub.status.busy": "2024-11-24T00:30:54.908119Z",
     "iopub.status.idle": "2024-11-24T00:30:54.912906Z",
     "shell.execute_reply": "2024-11-24T00:30:54.911917Z"
    },
    "papermill": {
     "duration": 0.016616,
     "end_time": "2024-11-24T00:30:54.914867",
     "exception": false,
     "start_time": "2024-11-24T00:30:54.898251",
     "status": "completed"
    },
    "tags": []
   },
   "outputs": [],
   "source": [
    "# playground_series_s4e11_path = kagglehub.competition_download('playground-series-s4e11')"
   ]
  },
  {
   "cell_type": "code",
   "execution_count": 4,
   "id": "eb48bdd8",
   "metadata": {
    "execution": {
     "iopub.execute_input": "2024-11-24T00:30:54.933804Z",
     "iopub.status.busy": "2024-11-24T00:30:54.933398Z",
     "iopub.status.idle": "2024-11-24T00:30:55.482703Z",
     "shell.execute_reply": "2024-11-24T00:30:55.481691Z"
    },
    "papermill": {
     "duration": 0.561401,
     "end_time": "2024-11-24T00:30:55.485099",
     "exception": false,
     "start_time": "2024-11-24T00:30:54.923698",
     "status": "completed"
    },
    "tags": []
   },
   "outputs": [],
   "source": [
    "path='/kaggle/input/playground-series-s4e11/train.csv'\n",
    "train = pd.read_csv(path)\n"
   ]
  },
  {
   "cell_type": "code",
   "execution_count": 5,
   "id": "27a096de",
   "metadata": {
    "execution": {
     "iopub.execute_input": "2024-11-24T00:30:55.504381Z",
     "iopub.status.busy": "2024-11-24T00:30:55.504036Z",
     "iopub.status.idle": "2024-11-24T00:30:55.552683Z",
     "shell.execute_reply": "2024-11-24T00:30:55.551755Z"
    },
    "papermill": {
     "duration": 0.060911,
     "end_time": "2024-11-24T00:30:55.555075",
     "exception": false,
     "start_time": "2024-11-24T00:30:55.494164",
     "status": "completed"
    },
    "tags": []
   },
   "outputs": [],
   "source": [
    "student_train = train[train[\"Working Professional or Student\"]==\"Student\"]\n",
    "student_train.drop(['id','Working Professional or Student','Profession','Work Pressure','Job Satisfaction'],axis=1, inplace=True)\n",
    "student_train.dropna(axis=1, how='all', inplace=True)"
   ]
  },
  {
   "cell_type": "code",
   "execution_count": 6,
   "id": "65238251",
   "metadata": {
    "execution": {
     "iopub.execute_input": "2024-11-24T00:30:55.573859Z",
     "iopub.status.busy": "2024-11-24T00:30:55.573514Z",
     "iopub.status.idle": "2024-11-24T00:30:55.581008Z",
     "shell.execute_reply": "2024-11-24T00:30:55.580246Z"
    },
    "papermill": {
     "duration": 0.01906,
     "end_time": "2024-11-24T00:30:55.583027",
     "exception": false,
     "start_time": "2024-11-24T00:30:55.563967",
     "status": "completed"
    },
    "tags": []
   },
   "outputs": [],
   "source": [
    "string_columns = student_train.select_dtypes(include=['object','string']).columns\n",
    "numeric_student = student_train[student_train.columns.difference(string_columns)]\n"
   ]
  },
  {
   "cell_type": "code",
   "execution_count": 7,
   "id": "b872e213",
   "metadata": {
    "execution": {
     "iopub.execute_input": "2024-11-24T00:30:55.602032Z",
     "iopub.status.busy": "2024-11-24T00:30:55.601172Z",
     "iopub.status.idle": "2024-11-24T00:30:55.607664Z",
     "shell.execute_reply": "2024-11-24T00:30:55.606709Z"
    },
    "papermill": {
     "duration": 0.017772,
     "end_time": "2024-11-24T00:30:55.609572",
     "exception": false,
     "start_time": "2024-11-24T00:30:55.591800",
     "status": "completed"
    },
    "tags": []
   },
   "outputs": [],
   "source": [
    "string_student=student_train[string_columns]"
   ]
  },
  {
   "cell_type": "code",
   "execution_count": 8,
   "id": "7bd2e991",
   "metadata": {
    "execution": {
     "iopub.execute_input": "2024-11-24T00:30:55.627960Z",
     "iopub.status.busy": "2024-11-24T00:30:55.627599Z",
     "iopub.status.idle": "2024-11-24T00:30:55.677445Z",
     "shell.execute_reply": "2024-11-24T00:30:55.676374Z"
    },
    "papermill": {
     "duration": 0.061854,
     "end_time": "2024-11-24T00:30:55.679867",
     "exception": false,
     "start_time": "2024-11-24T00:30:55.618013",
     "status": "completed"
    },
    "tags": []
   },
   "outputs": [],
   "source": [
    "\n",
    "d = defaultdict(preprocessing.LabelEncoder)\n",
    "string_student = string_student.apply(lambda x: d[x.name].fit_transform(x))"
   ]
  },
  {
   "cell_type": "code",
   "execution_count": 9,
   "id": "ff8141e9",
   "metadata": {
    "execution": {
     "iopub.execute_input": "2024-11-24T00:30:55.698526Z",
     "iopub.status.busy": "2024-11-24T00:30:55.697830Z",
     "iopub.status.idle": "2024-11-24T00:30:55.705962Z",
     "shell.execute_reply": "2024-11-24T00:30:55.704914Z"
    },
    "papermill": {
     "duration": 0.019685,
     "end_time": "2024-11-24T00:30:55.708191",
     "exception": false,
     "start_time": "2024-11-24T00:30:55.688506",
     "status": "completed"
    },
    "tags": []
   },
   "outputs": [],
   "source": [
    "numeric_student = numeric_student.join(string_student)"
   ]
  },
  {
   "cell_type": "code",
   "execution_count": 10,
   "id": "bcd4f987",
   "metadata": {
    "execution": {
     "iopub.execute_input": "2024-11-24T00:30:55.726744Z",
     "iopub.status.busy": "2024-11-24T00:30:55.726338Z",
     "iopub.status.idle": "2024-11-24T00:30:55.734189Z",
     "shell.execute_reply": "2024-11-24T00:30:55.733281Z"
    },
    "papermill": {
     "duration": 0.019222,
     "end_time": "2024-11-24T00:30:55.736141",
     "exception": false,
     "start_time": "2024-11-24T00:30:55.716919",
     "status": "completed"
    },
    "tags": []
   },
   "outputs": [
    {
     "data": {
      "text/plain": [
       "Index([], dtype='object')"
      ]
     },
     "execution_count": 10,
     "metadata": {},
     "output_type": "execute_result"
    }
   ],
   "source": [
    "numeric_student.select_dtypes(include=['object']).columns"
   ]
  },
  {
   "cell_type": "code",
   "execution_count": null,
   "id": "ab310ee6",
   "metadata": {
    "execution": {
     "iopub.execute_input": "2024-11-23T01:29:30.342839Z",
     "iopub.status.busy": "2024-11-23T01:29:30.342353Z",
     "iopub.status.idle": "2024-11-23T01:29:30.377019Z",
     "shell.execute_reply": "2024-11-23T01:29:30.376119Z",
     "shell.execute_reply.started": "2024-11-23T01:29:30.342805Z"
    },
    "papermill": {
     "duration": 0.007951,
     "end_time": "2024-11-24T00:30:55.752639",
     "exception": false,
     "start_time": "2024-11-24T00:30:55.744688",
     "status": "completed"
    },
    "tags": []
   },
   "outputs": [],
   "source": []
  },
  {
   "cell_type": "code",
   "execution_count": 11,
   "id": "1498e0d4",
   "metadata": {
    "execution": {
     "iopub.execute_input": "2024-11-24T00:30:55.770915Z",
     "iopub.status.busy": "2024-11-24T00:30:55.770516Z",
     "iopub.status.idle": "2024-11-24T00:30:55.775110Z",
     "shell.execute_reply": "2024-11-24T00:30:55.774125Z"
    },
    "papermill": {
     "duration": 0.016139,
     "end_time": "2024-11-24T00:30:55.777189",
     "exception": false,
     "start_time": "2024-11-24T00:30:55.761050",
     "status": "completed"
    },
    "tags": []
   },
   "outputs": [],
   "source": [
    "# Define metadata for your dataset\n",
    "metadata = Metadata()\n",
    "# md = metadata.detect_from_dataframe(student_train).save_to_json('./metadata.json')"
   ]
  },
  {
   "cell_type": "code",
   "execution_count": 12,
   "id": "d6e1025c",
   "metadata": {
    "execution": {
     "iopub.execute_input": "2024-11-24T00:30:55.796402Z",
     "iopub.status.busy": "2024-11-24T00:30:55.795592Z",
     "iopub.status.idle": "2024-11-24T00:30:55.800353Z",
     "shell.execute_reply": "2024-11-24T00:30:55.799461Z"
    },
    "papermill": {
     "duration": 0.01649,
     "end_time": "2024-11-24T00:30:55.802353",
     "exception": false,
     "start_time": "2024-11-24T00:30:55.785863",
     "status": "completed"
    },
    "tags": []
   },
   "outputs": [],
   "source": [
    "metadata_path='/kaggle/input/metadata-student/metadata.json'"
   ]
  },
  {
   "cell_type": "code",
   "execution_count": 13,
   "id": "542188bd",
   "metadata": {
    "execution": {
     "iopub.execute_input": "2024-11-24T00:30:55.820836Z",
     "iopub.status.busy": "2024-11-24T00:30:55.820460Z",
     "iopub.status.idle": "2024-11-24T00:30:55.829708Z",
     "shell.execute_reply": "2024-11-24T00:30:55.828916Z"
    },
    "papermill": {
     "duration": 0.021001,
     "end_time": "2024-11-24T00:30:55.831703",
     "exception": false,
     "start_time": "2024-11-24T00:30:55.810702",
     "status": "completed"
    },
    "tags": []
   },
   "outputs": [],
   "source": [
    "md = metadata.load_from_json(metadata_path)\n"
   ]
  },
  {
   "cell_type": "code",
   "execution_count": 14,
   "id": "03b01e13",
   "metadata": {
    "execution": {
     "iopub.execute_input": "2024-11-24T00:30:55.851024Z",
     "iopub.status.busy": "2024-11-24T00:30:55.850253Z",
     "iopub.status.idle": "2024-11-24T00:30:55.865149Z",
     "shell.execute_reply": "2024-11-24T00:30:55.864143Z"
    },
    "papermill": {
     "duration": 0.026614,
     "end_time": "2024-11-24T00:30:55.867030",
     "exception": false,
     "start_time": "2024-11-24T00:30:55.840416",
     "status": "completed"
    },
    "tags": []
   },
   "outputs": [],
   "source": [
    "synthesizer = CTGANSynthesizer(\n",
    "    md,\n",
    "    epochs=350,\n",
    "    generator_dim=(256, 256, 256),\n",
    "    log_frequency=True)\n"
   ]
  },
  {
   "cell_type": "code",
   "execution_count": 15,
   "id": "f4005c4c",
   "metadata": {
    "execution": {
     "iopub.execute_input": "2024-11-24T00:30:55.886087Z",
     "iopub.status.busy": "2024-11-24T00:30:55.885022Z",
     "iopub.status.idle": "2024-11-24T00:30:55.971835Z",
     "shell.execute_reply": "2024-11-24T00:30:55.970976Z"
    },
    "papermill": {
     "duration": 0.098541,
     "end_time": "2024-11-24T00:30:55.974136",
     "exception": false,
     "start_time": "2024-11-24T00:30:55.875595",
     "status": "completed"
    },
    "tags": []
   },
   "outputs": [],
   "source": [
    "synthesizer.auto_assign_transformers(numeric_student)\n"
   ]
  },
  {
   "cell_type": "code",
   "execution_count": 16,
   "id": "e51b60f3",
   "metadata": {
    "execution": {
     "iopub.execute_input": "2024-11-24T00:30:55.994755Z",
     "iopub.status.busy": "2024-11-24T00:30:55.994081Z",
     "iopub.status.idle": "2024-11-24T03:26:04.914985Z",
     "shell.execute_reply": "2024-11-24T03:26:04.913506Z"
    },
    "papermill": {
     "duration": 10508.933393,
     "end_time": "2024-11-24T03:26:04.917720",
     "exception": false,
     "start_time": "2024-11-24T00:30:55.984327",
     "status": "completed"
    },
    "tags": []
   },
   "outputs": [],
   "source": [
    "synthesizer.fit(numeric_student)"
   ]
  },
  {
   "cell_type": "code",
   "execution_count": 17,
   "id": "d4f92205",
   "metadata": {
    "execution": {
     "iopub.execute_input": "2024-11-24T03:26:04.937244Z",
     "iopub.status.busy": "2024-11-24T03:26:04.936308Z",
     "iopub.status.idle": "2024-11-24T03:26:04.982028Z",
     "shell.execute_reply": "2024-11-24T03:26:04.980899Z"
    },
    "papermill": {
     "duration": 0.057732,
     "end_time": "2024-11-24T03:26:04.984513",
     "exception": false,
     "start_time": "2024-11-24T03:26:04.926781",
     "status": "completed"
    },
    "tags": []
   },
   "outputs": [],
   "source": [
    "synthesizer.save(\n",
    "    filepath='/kaggle/working/my_synthesizer.pkl'\n",
    ")"
   ]
  },
  {
   "cell_type": "code",
   "execution_count": 18,
   "id": "be4f4886",
   "metadata": {
    "execution": {
     "iopub.execute_input": "2024-11-24T03:26:05.002958Z",
     "iopub.status.busy": "2024-11-24T03:26:05.002576Z",
     "iopub.status.idle": "2024-11-24T03:26:06.880377Z",
     "shell.execute_reply": "2024-11-24T03:26:06.879486Z"
    },
    "papermill": {
     "duration": 1.889637,
     "end_time": "2024-11-24T03:26:06.882701",
     "exception": false,
     "start_time": "2024-11-24T03:26:04.993064",
     "status": "completed"
    },
    "tags": []
   },
   "outputs": [],
   "source": [
    "synthetic_data = synthesizer.sample(len(numeric_student))\n"
   ]
  },
  {
   "cell_type": "code",
   "execution_count": 19,
   "id": "dd05a865",
   "metadata": {
    "execution": {
     "iopub.execute_input": "2024-11-24T03:26:06.901194Z",
     "iopub.status.busy": "2024-11-24T03:26:06.900835Z",
     "iopub.status.idle": "2024-11-24T03:26:07.074629Z",
     "shell.execute_reply": "2024-11-24T03:26:07.073491Z"
    },
    "papermill": {
     "duration": 0.186308,
     "end_time": "2024-11-24T03:26:07.077775",
     "exception": false,
     "start_time": "2024-11-24T03:26:06.891467",
     "status": "completed"
    },
    "tags": []
   },
   "outputs": [],
   "source": [
    "synthetic_data.to_csv('/kaggle/working/numeric_synethetic_data.csv')"
   ]
  },
  {
   "cell_type": "code",
   "execution_count": 20,
   "id": "77badaf0",
   "metadata": {
    "execution": {
     "iopub.execute_input": "2024-11-24T03:26:07.096525Z",
     "iopub.status.busy": "2024-11-24T03:26:07.096152Z",
     "iopub.status.idle": "2024-11-24T03:26:08.108342Z",
     "shell.execute_reply": "2024-11-24T03:26:08.107247Z"
    },
    "papermill": {
     "duration": 1.023562,
     "end_time": "2024-11-24T03:26:08.110268",
     "exception": false,
     "start_time": "2024-11-24T03:26:07.086706",
     "status": "completed"
    },
    "tags": []
   },
   "outputs": [
    {
     "name": "stdout",
     "output_type": "stream",
     "text": [
      "Generating report ...\n",
      "\n",
      "(1/2) Evaluating Column Shapes: |██████████| 15/15 [00:00<00:00, 89.34it/s]|\n",
      "Column Shapes Score: 83.56%\n",
      "\n",
      "(2/2) Evaluating Column Pair Trends: |██████████| 105/105 [00:00<00:00, 128.53it/s]|\n",
      "Column Pair Trends Score: 69.29%\n",
      "\n",
      "Overall Score (Average): 76.42%\n",
      "\n",
      "Quality Score: <sdmetrics.reports.single_table.quality_report.QualityReport object at 0x7ad3245e8a90>\n"
     ]
    }
   ],
   "source": [
    "quality_score = evaluate_quality(synthetic_data, numeric_student,md)\n",
    "print(f\"Quality Score: {quality_score}\")"
   ]
  },
  {
   "cell_type": "code",
   "execution_count": 21,
   "id": "81fd3a49",
   "metadata": {
    "execution": {
     "iopub.execute_input": "2024-11-24T03:26:08.130597Z",
     "iopub.status.busy": "2024-11-24T03:26:08.130197Z",
     "iopub.status.idle": "2024-11-24T03:26:08.144716Z",
     "shell.execute_reply": "2024-11-24T03:26:08.143775Z"
    },
    "papermill": {
     "duration": 0.026746,
     "end_time": "2024-11-24T03:26:08.146517",
     "exception": false,
     "start_time": "2024-11-24T03:26:08.119771",
     "status": "completed"
    },
    "tags": []
   },
   "outputs": [
    {
     "data": {
      "text/html": [
       "<div>\n",
       "<style scoped>\n",
       "    .dataframe tbody tr th:only-of-type {\n",
       "        vertical-align: middle;\n",
       "    }\n",
       "\n",
       "    .dataframe tbody tr th {\n",
       "        vertical-align: top;\n",
       "    }\n",
       "\n",
       "    .dataframe thead th {\n",
       "        text-align: right;\n",
       "    }\n",
       "</style>\n",
       "<table border=\"1\" class=\"dataframe\">\n",
       "  <thead>\n",
       "    <tr style=\"text-align: right;\">\n",
       "      <th></th>\n",
       "      <th>Epoch</th>\n",
       "      <th>Generator Loss</th>\n",
       "      <th>Discriminator Loss</th>\n",
       "    </tr>\n",
       "  </thead>\n",
       "  <tbody>\n",
       "    <tr>\n",
       "      <th>0</th>\n",
       "      <td>0</td>\n",
       "      <td>1.617047</td>\n",
       "      <td>-0.051137</td>\n",
       "    </tr>\n",
       "    <tr>\n",
       "      <th>1</th>\n",
       "      <td>1</td>\n",
       "      <td>1.240352</td>\n",
       "      <td>-0.034994</td>\n",
       "    </tr>\n",
       "    <tr>\n",
       "      <th>2</th>\n",
       "      <td>2</td>\n",
       "      <td>1.052859</td>\n",
       "      <td>0.031982</td>\n",
       "    </tr>\n",
       "    <tr>\n",
       "      <th>3</th>\n",
       "      <td>3</td>\n",
       "      <td>0.692600</td>\n",
       "      <td>0.144205</td>\n",
       "    </tr>\n",
       "    <tr>\n",
       "      <th>4</th>\n",
       "      <td>4</td>\n",
       "      <td>0.413872</td>\n",
       "      <td>0.167208</td>\n",
       "    </tr>\n",
       "    <tr>\n",
       "      <th>...</th>\n",
       "      <td>...</td>\n",
       "      <td>...</td>\n",
       "      <td>...</td>\n",
       "    </tr>\n",
       "    <tr>\n",
       "      <th>345</th>\n",
       "      <td>345</td>\n",
       "      <td>-2.394638</td>\n",
       "      <td>0.023164</td>\n",
       "    </tr>\n",
       "    <tr>\n",
       "      <th>346</th>\n",
       "      <td>346</td>\n",
       "      <td>-2.432284</td>\n",
       "      <td>0.104075</td>\n",
       "    </tr>\n",
       "    <tr>\n",
       "      <th>347</th>\n",
       "      <td>347</td>\n",
       "      <td>-2.337579</td>\n",
       "      <td>0.177952</td>\n",
       "    </tr>\n",
       "    <tr>\n",
       "      <th>348</th>\n",
       "      <td>348</td>\n",
       "      <td>-2.392318</td>\n",
       "      <td>-0.227242</td>\n",
       "    </tr>\n",
       "    <tr>\n",
       "      <th>349</th>\n",
       "      <td>349</td>\n",
       "      <td>-2.502275</td>\n",
       "      <td>-0.025092</td>\n",
       "    </tr>\n",
       "  </tbody>\n",
       "</table>\n",
       "<p>350 rows × 3 columns</p>\n",
       "</div>"
      ],
      "text/plain": [
       "     Epoch  Generator Loss  Discriminator Loss\n",
       "0        0        1.617047           -0.051137\n",
       "1        1        1.240352           -0.034994\n",
       "2        2        1.052859            0.031982\n",
       "3        3        0.692600            0.144205\n",
       "4        4        0.413872            0.167208\n",
       "..     ...             ...                 ...\n",
       "345    345       -2.394638            0.023164\n",
       "346    346       -2.432284            0.104075\n",
       "347    347       -2.337579            0.177952\n",
       "348    348       -2.392318           -0.227242\n",
       "349    349       -2.502275           -0.025092\n",
       "\n",
       "[350 rows x 3 columns]"
      ]
     },
     "execution_count": 21,
     "metadata": {},
     "output_type": "execute_result"
    }
   ],
   "source": [
    "synthesizer.get_loss_values()"
   ]
  },
  {
   "cell_type": "code",
   "execution_count": 22,
   "id": "dcbdc19a",
   "metadata": {
    "execution": {
     "iopub.execute_input": "2024-11-24T03:26:08.167323Z",
     "iopub.status.busy": "2024-11-24T03:26:08.166962Z",
     "iopub.status.idle": "2024-11-24T03:26:09.543731Z",
     "shell.execute_reply": "2024-11-24T03:26:09.542650Z"
    },
    "papermill": {
     "duration": 1.38946,
     "end_time": "2024-11-24T03:26:09.545795",
     "exception": false,
     "start_time": "2024-11-24T03:26:08.156335",
     "status": "completed"
    },
    "tags": []
   },
   "outputs": [
    {
     "data": {
      "text/html": [
       "        <script type=\"text/javascript\">\n",
       "        window.PlotlyConfig = {MathJaxConfig: 'local'};\n",
       "        if (window.MathJax && window.MathJax.Hub && window.MathJax.Hub.Config) {window.MathJax.Hub.Config({SVG: {font: \"STIX-Web\"}});}\n",
       "        if (typeof require !== 'undefined') {\n",
       "        require.undef(\"plotly\");\n",
       "        requirejs.config({\n",
       "            paths: {\n",
       "                'plotly': ['https://cdn.plot.ly/plotly-2.32.0.min']\n",
       "            }\n",
       "        });\n",
       "        require(['plotly'], function(Plotly) {\n",
       "            window._Plotly = Plotly;\n",
       "        });\n",
       "        }\n",
       "        </script>\n",
       "        "
      ]
     },
     "metadata": {},
     "output_type": "display_data"
    },
    {
     "data": {
      "text/html": [
       "<div>                            <div id=\"06a54fb7-aea0-411c-b340-4878370ec880\" class=\"plotly-graph-div\" style=\"height:525px; width:100%;\"></div>            <script type=\"text/javascript\">                require([\"plotly\"], function(Plotly) {                    window.PLOTLYENV=window.PLOTLYENV || {};                                    if (document.getElementById(\"06a54fb7-aea0-411c-b340-4878370ec880\")) {                    Plotly.newPlot(                        \"06a54fb7-aea0-411c-b340-4878370ec880\",                        [{\"hovertemplate\":\"variable=Generator Loss\\u003cbr\\u003eEpoch=%{x}\\u003cbr\\u003evalue=%{y}\\u003cextra\\u003e\\u003c\\u002fextra\\u003e\",\"legendgroup\":\"Generator Loss\",\"line\":{\"color\":\"#000036\",\"dash\":\"solid\"},\"marker\":{\"symbol\":\"circle\"},\"mode\":\"lines\",\"name\":\"Generator Loss\",\"orientation\":\"v\",\"showlegend\":true,\"x\":[0,1,2,3,4,5,6,7,8,9,10,11,12,13,14,15,16,17,18,19,20,21,22,23,24,25,26,27,28,29,30,31,32,33,34,35,36,37,38,39,40,41,42,43,44,45,46,47,48,49,50,51,52,53,54,55,56,57,58,59,60,61,62,63,64,65,66,67,68,69,70,71,72,73,74,75,76,77,78,79,80,81,82,83,84,85,86,87,88,89,90,91,92,93,94,95,96,97,98,99,100,101,102,103,104,105,106,107,108,109,110,111,112,113,114,115,116,117,118,119,120,121,122,123,124,125,126,127,128,129,130,131,132,133,134,135,136,137,138,139,140,141,142,143,144,145,146,147,148,149,150,151,152,153,154,155,156,157,158,159,160,161,162,163,164,165,166,167,168,169,170,171,172,173,174,175,176,177,178,179,180,181,182,183,184,185,186,187,188,189,190,191,192,193,194,195,196,197,198,199,200,201,202,203,204,205,206,207,208,209,210,211,212,213,214,215,216,217,218,219,220,221,222,223,224,225,226,227,228,229,230,231,232,233,234,235,236,237,238,239,240,241,242,243,244,245,246,247,248,249,250,251,252,253,254,255,256,257,258,259,260,261,262,263,264,265,266,267,268,269,270,271,272,273,274,275,276,277,278,279,280,281,282,283,284,285,286,287,288,289,290,291,292,293,294,295,296,297,298,299,300,301,302,303,304,305,306,307,308,309,310,311,312,313,314,315,316,317,318,319,320,321,322,323,324,325,326,327,328,329,330,331,332,333,334,335,336,337,338,339,340,341,342,343,344,345,346,347,348,349],\"xaxis\":\"x\",\"y\":[1.6170470714569092,1.2403523921966553,1.0528589487075806,0.6926004886627197,0.4138716459274292,0.012568533420562744,-0.42738044261932373,-0.5897791385650635,-0.8871527910232544,-1.1772465705871582,-1.1486175060272217,-1.261439323425293,-1.222922682762146,-1.514937162399292,-1.51140558719635,-1.6097248792648315,-1.4456061124801636,-1.7285090684890747,-1.8465306758880615,-1.685732126235962,-1.8776795864105225,-2.0623347759246826,-2.089036226272583,-2.1507370471954346,-2.151913642883301,-2.1491177082061768,-2.177184820175171,-2.122894525527954,-2.3371264934539795,-2.319223165512085,-2.526240587234497,-2.398059606552124,-2.4997549057006836,-2.46065354347229,-2.410158395767212,-2.434847116470337,-2.3883554935455322,-2.4144208431243896,-2.4153811931610107,-2.3037917613983154,-2.290445327758789,-2.3338117599487305,-2.337141752243042,-2.341155529022217,-2.4796054363250732,-2.3942039012908936,-2.205782890319824,-2.133240222930908,-2.296236038208008,-2.2322559356689453,-2.3876266479492188,-2.2368667125701904,-2.0871102809906006,-2.311795949935913,-2.2162368297576904,-2.187805414199829,-2.283914804458618,-2.096856117248535,-2.3431382179260254,-2.3419065475463867,-2.1420655250549316,-2.2349460124969482,-2.2288737297058105,-2.410419464111328,-2.2645230293273926,-2.2837634086608887,-2.172130823135376,-2.142699956893921,-2.3657703399658203,-2.264336585998535,-2.2604541778564453,-2.288126230239868,-2.271097183227539,-2.3055179119110107,-2.269587993621826,-2.0480010509490967,-2.1054770946502686,-2.2823965549468994,-2.308234453201294,-2.2003390789031982,-2.115898370742798,-2.2159318923950195,-2.0590436458587646,-2.271794557571411,-2.1361002922058105,-1.98954439163208,-2.114501476287842,-2.1252081394195557,-2.1016156673431396,-2.0087974071502686,-1.8837567567825317,-1.7837508916854858,-2.0895156860351562,-1.8376725912094116,-2.08192777633667,-1.936998724937439,-1.9668306112289429,-2.032426357269287,-2.022315263748169,-1.9780292510986328,-1.8708523511886597,-1.8482983112335205,-1.7172380685806274,-1.8378654718399048,-1.729305624961853,-1.910825252532959,-1.7510095834732056,-1.8124051094055176,-1.7522478103637695,-1.8515167236328125,-1.8728015422821045,-1.8738878965377808,-1.7927515506744385,-1.792278528213501,-1.7110189199447632,-1.979788064956665,-1.9627604484558105,-1.6815943717956543,-1.9650545120239258,-1.7059017419815063,-1.841905951499939,-2.1154258251190186,-1.7313138246536255,-1.7324988842010498,-1.8681563138961792,-1.7685481309890747,-1.8292042016983032,-1.7029985189437866,-1.3933383226394653,-1.7652688026428223,-1.8624513149261475,-1.5720093250274658,-1.661566138267517,-1.5290195941925049,-1.662095308303833,-1.5617954730987549,-1.5778034925460815,-1.5861552953720093,-1.6746623516082764,-1.6427353620529175,-1.5874261856079102,-1.5111263990402222,-1.436326026916504,-1.558977723121643,-1.4319461584091187,-1.614982008934021,-1.465941309928894,-1.5756022930145264,-1.664524793624878,-1.7464287281036377,-1.7361699342727661,-1.7548716068267822,-1.6097071170806885,-1.8701151609420776,-1.8516197204589844,-1.8786088228225708,-1.8314464092254639,-1.6381803750991821,-1.8602547645568848,-1.791180968284607,-1.739525556564331,-1.7828322649002075,-1.8622581958770752,-1.747631549835205,-1.7122620344161987,-1.6903166770935059,-1.915206789970398,-1.8465940952301025,-1.7616873979568481,-1.83468759059906,-1.9471940994262695,-1.9633616209030151,-1.7845829725265503,-1.9072017669677734,-1.7073991298675537,-1.7982139587402344,-1.7461413145065308,-1.636824607849121,-1.76398503780365,-1.8329740762710571,-1.9307790994644165,-1.7741570472717285,-1.8026889562606812,-2.0042057037353516,-1.9035292863845825,-2.006542205810547,-1.8455618619918823,-1.976036787033081,-2.036273241043091,-1.802574872970581,-1.9494316577911377,-2.0886213779449463,-1.826478123664856,-2.075472354888916,-1.9774954319000244,-1.8628268241882324,-1.8642315864562988,-1.8393869400024414,-1.9581786394119263,-1.9829493761062622,-1.794609785079956,-1.9721711874008179,-1.8717930316925049,-2.01017427444458,-2.0763516426086426,-1.9612319469451904,-2.005584478378296,-2.15067195892334,-2.1151223182678223,-1.8879095315933228,-2.087029218673706,-2.0267043113708496,-2.1309680938720703,-2.050774097442627,-2.1194534301757812,-2.1652190685272217,-2.0981407165527344,-2.2205734252929688,-2.1098833084106445,-2.172391176223755,-2.19806170463562,-2.1378257274627686,-2.0797836780548096,-2.03670334815979,-2.0793280601501465,-2.2275137901306152,-2.225170612335205,-2.257888078689575,-2.219909906387329,-2.3569016456604004,-2.228443145751953,-2.0485382080078125,-2.192739248275757,-2.3048923015594482,-2.1120340824127197,-2.118736505508423,-2.2420148849487305,-2.2872097492218018,-2.16074800491333,-2.17240834236145,-2.2959554195404053,-2.176042318344116,-2.283146381378174,-2.122894048690796,-2.219426393508911,-2.254460334777832,-2.036079168319702,-2.2772152423858643,-2.1360995769500732,-2.3618083000183105,-2.180893898010254,-2.326296091079712,-2.293321371078491,-2.3626458644866943,-2.268423557281494,-2.2579712867736816,-2.3313002586364746,-2.190054416656494,-2.266688823699951,-2.283342123031616,-2.191310405731201,-2.2210159301757812,-2.3146049976348877,-2.18906569480896,-2.506702423095703,-2.248600959777832,-2.265164852142334,-2.1796984672546387,-2.375267744064331,-2.182593584060669,-2.4539167881011963,-2.392704725265503,-2.3597638607025146,-2.338249444961548,-2.442811965942383,-2.1469342708587646,-2.4216887950897217,-2.419238328933716,-2.4009952545166016,-2.4362213611602783,-2.374213695526123,-2.376192331314087,-2.251520872116089,-2.4159538745880127,-2.314513683319092,-2.369727373123169,-2.4260413646698,-2.289332866668701,-2.2984862327575684,-2.1804230213165283,-2.3379030227661133,-2.4116127490997314,-2.4420692920684814,-2.363635778427124,-2.264890670776367,-2.5087969303131104,-2.39132022857666,-2.410386562347412,-2.3380720615386963,-2.4292540550231934,-2.460191488265991,-2.320178985595703,-2.3514299392700195,-2.3222198486328125,-2.266303300857544,-2.4195520877838135,-2.296539545059204,-2.590916395187378,-2.3178255558013916,-2.4069154262542725,-2.34297513961792,-2.411159038543701,-2.443068742752075,-2.4329757690429688,-2.2853353023529053,-2.4588186740875244,-2.4041779041290283,-2.4877941608428955,-2.382652997970581,-2.3857064247131348,-2.3169989585876465,-2.496779441833496,-2.5731201171875,-2.464702844619751,-2.323486566543579,-2.4410972595214844,-2.3179242610931396,-2.5585005283355713,-2.442866563796997,-2.555915355682373,-2.5166263580322266,-2.45735764503479,-2.4802446365356445,-2.386707305908203,-2.288846015930176,-2.4031221866607666,-2.396760940551758,-2.4708333015441895,-2.5564422607421875,-2.4163405895233154,-2.447096109390259,-2.3444693088531494,-2.463524580001831,-2.4136974811553955,-2.4576423168182373,-2.3946382999420166,-2.432284116744995,-2.3375790119171143,-2.3923182487487793,-2.5022754669189453],\"yaxis\":\"y\",\"type\":\"scatter\"},{\"hovertemplate\":\"variable=Discriminator Loss\\u003cbr\\u003eEpoch=%{x}\\u003cbr\\u003evalue=%{y}\\u003cextra\\u003e\\u003c\\u002fextra\\u003e\",\"legendgroup\":\"Discriminator Loss\",\"line\":{\"color\":\"#01E0C9\",\"dash\":\"solid\"},\"marker\":{\"symbol\":\"circle\"},\"mode\":\"lines\",\"name\":\"Discriminator Loss\",\"orientation\":\"v\",\"showlegend\":true,\"x\":[0,1,2,3,4,5,6,7,8,9,10,11,12,13,14,15,16,17,18,19,20,21,22,23,24,25,26,27,28,29,30,31,32,33,34,35,36,37,38,39,40,41,42,43,44,45,46,47,48,49,50,51,52,53,54,55,56,57,58,59,60,61,62,63,64,65,66,67,68,69,70,71,72,73,74,75,76,77,78,79,80,81,82,83,84,85,86,87,88,89,90,91,92,93,94,95,96,97,98,99,100,101,102,103,104,105,106,107,108,109,110,111,112,113,114,115,116,117,118,119,120,121,122,123,124,125,126,127,128,129,130,131,132,133,134,135,136,137,138,139,140,141,142,143,144,145,146,147,148,149,150,151,152,153,154,155,156,157,158,159,160,161,162,163,164,165,166,167,168,169,170,171,172,173,174,175,176,177,178,179,180,181,182,183,184,185,186,187,188,189,190,191,192,193,194,195,196,197,198,199,200,201,202,203,204,205,206,207,208,209,210,211,212,213,214,215,216,217,218,219,220,221,222,223,224,225,226,227,228,229,230,231,232,233,234,235,236,237,238,239,240,241,242,243,244,245,246,247,248,249,250,251,252,253,254,255,256,257,258,259,260,261,262,263,264,265,266,267,268,269,270,271,272,273,274,275,276,277,278,279,280,281,282,283,284,285,286,287,288,289,290,291,292,293,294,295,296,297,298,299,300,301,302,303,304,305,306,307,308,309,310,311,312,313,314,315,316,317,318,319,320,321,322,323,324,325,326,327,328,329,330,331,332,333,334,335,336,337,338,339,340,341,342,343,344,345,346,347,348,349],\"xaxis\":\"x\",\"y\":[-0.05113738775253296,-0.03499418497085571,0.03198212385177612,0.1442050039768219,0.16720789670944214,-0.09742790460586548,0.025367021560668945,-0.07843780517578125,0.056649208068847656,0.10677003860473633,-0.055817604064941406,-0.07431817054748535,-0.07376694679260254,-0.020453453063964844,-0.13120269775390625,0.06122231483459473,-0.024541854858398438,-0.05206131935119629,0.03165292739868164,-0.06477189064025879,-0.11490178108215332,0.05684232711791992,0.00921773910522461,0.004343986511230469,0.12640380859375,-0.04177284240722656,0.15044307708740234,0.017846107482910156,-0.059758663177490234,-0.02126598358154297,-0.022269248962402344,0.0169827938079834,0.001997709274291992,-0.039673805236816406,0.03704380989074707,0.13492536544799805,-0.08190155029296875,-0.12125563621520996,0.018918991088867188,-0.08848166465759277,-0.05001521110534668,0.06767868995666504,0.03526639938354492,0.08198213577270508,0.009728431701660156,-0.13236212730407715,0.034557342529296875,-0.027865886688232422,0.0101470947265625,0.11417508125305176,-0.029697656631469727,0.02606034278869629,-0.04599785804748535,0.0896449089050293,0.031121015548706055,-0.08878707885742188,0.033243417739868164,-0.08824992179870605,0.013412714004516602,-0.018809795379638672,0.020323991775512695,0.12015271186828613,0.062242984771728516,0.03360605239868164,-0.2517433166503906,-0.06860470771789551,0.07057714462280273,0.054268598556518555,0.08690142631530762,-0.07004714012145996,0.0201873779296875,-0.08070635795593262,-0.03219723701477051,0.12780165672302246,0.06688928604125977,-0.02381157875061035,-0.02194976806640625,0.10421347618103027,-0.03664875030517578,0.05658888816833496,-0.06968283653259277,-0.14961838722229004,0.01815342903137207,-0.021269559860229492,0.027987241744995117,0.0007121562957763672,-0.01809239387512207,0.015653610229492188,0.04086112976074219,-0.037114500999450684,0.09057044982910156,0.06511735916137695,-0.10056567192077637,0.007973670959472656,-0.018926143646240234,0.015413999557495117,0.03395724296569824,-0.03918349742889404,-0.06468319892883301,-0.201735258102417,-0.032530784606933594,-0.08710062503814697,0.03638637065887451,0.08760511875152588,0.006800651550292969,-0.0255429744720459,-0.05694007873535156,-0.15438222885131836,0.0327608585357666,0.1309659481048584,-0.07195436954498291,-0.1086578369140625,0.10279524326324463,-0.1894134283065796,-0.09033691883087158,-0.09820330142974854,0.029369115829467773,0.05383777618408203,0.031076550483703613,0.17720162868499756,0.04184842109680176,0.14921629428863525,0.11007356643676758,0.11301076412200928,0.0765526294708252,-0.06580936908721924,0.1460951566696167,0.09878575801849365,-0.03783154487609863,0.10110831260681152,-0.05243527889251709,0.1452692747116089,0.11151432991027832,-0.0390019416809082,-0.10551309585571289,-0.2231123447418213,-0.006054997444152832,-0.02953493595123291,0.02154529094696045,0.026119232177734375,0.147821307182312,0.04187321662902832,0.15641331672668457,0.0936969518661499,0.07387661933898926,-0.016300559043884277,-0.06512451171875,-0.111602783203125,0.10101544857025146,-0.14538204669952393,0.04788696765899658,0.027142643928527832,0.16482508182525635,0.07897567749023438,-0.057412147521972656,-0.05473983287811279,0.0656517744064331,-0.09943592548370361,0.01804661750793457,0.13620758056640625,-0.14260375499725342,-0.10757994651794434,0.16380488872528076,-0.00621485710144043,0.16000628471374512,-0.14578914642333984,-0.0718834400177002,-0.1128091812133789,-0.16639065742492676,0.06080329418182373,0.1781402826309204,-0.22365355491638184,-0.1469343900680542,-0.040575385093688965,0.022162556648254395,0.055919647216796875,-0.38371455669403076,0.07699596881866455,-0.026184916496276855,-0.004795432090759277,-0.1698911190032959,0.09954535961151123,0.04788172245025635,-0.1602308750152588,-0.07161271572113037,0.04524707794189453,-0.15230417251586914,-0.14064276218414307,-0.0024167299270629883,-0.05805325508117676,0.21141648292541504,0.0766441822052002,-0.07430100440979004,-0.07594799995422363,-0.11614871025085449,0.05255937576293945,0.014412879943847656,-0.03167855739593506,0.06124472618103027,0.10831522941589355,-0.030805110931396484,-0.06395578384399414,-0.12302267551422119,-0.16740787029266357,0.03177165985107422,-0.07487976551055908,-0.15614843368530273,-0.1758352518081665,-0.016773700714111328,0.10800433158874512,-0.019534587860107422,0.19507193565368652,0.09422445297241211,-0.11810708045959473,0.0007548332214355469,0.17978334426879883,0.08878207206726074,-0.1730942726135254,0.08220171928405762,-0.03601646423339844,-0.03491377830505371,-0.025344371795654297,0.007261991500854492,-0.0573573112487793,0.14241671562194824,-0.10043597221374512,0.08531355857849121,-0.017702579498291016,0.022368669509887695,0.05360555648803711,0.2273634672164917,-0.09454727172851562,-0.22380447387695312,0.041310787200927734,-0.09716629981994629,0.021170616149902344,-0.049043893814086914,0.12106060981750488,0.09583187103271484,0.04062342643737793,0.05877399444580078,-0.13135623931884766,0.04579925537109375,-0.066925048828125,0.009933710098266602,-0.08425307273864746,-0.10244512557983398,-0.12083053588867188,0.06145429611206055,-0.15903234481811523,0.036484479904174805,0.10913419723510742,0.09267067909240723,0.07384920120239258,-0.06415390968322754,0.022979736328125,0.03969287872314453,-0.07315874099731445,0.05678224563598633,0.13371062278747559,-0.1364760398864746,-0.0916752815246582,0.08498501777648926,-0.012773513793945312,-0.1711432933807373,-0.03827071189880371,-0.01575613021850586,0.239210844039917,-0.0814821720123291,0.046013832092285156,-0.14148640632629395,0.06566667556762695,-0.08101415634155273,-0.04420828819274902,-0.1514573097229004,-0.07822871208190918,-0.1159827709197998,-0.14966964721679688,-0.12264227867126465,-0.10452866554260254,0.12142062187194824,-0.015072345733642578,-0.018281221389770508,0.060545921325683594,-0.04230618476867676,0.028287410736083984,0.013341903686523438,0.005510568618774414,0.07668495178222656,0.10070228576660156,-0.1304330825805664,-0.012173175811767578,0.008793354034423828,-0.04995155334472656,-0.17891573905944824,0.09682869911193848,0.21485567092895508,-0.02320265769958496,-0.026702404022216797,-0.1852250099182129,0.04085373878479004,0.028803348541259766,-0.1701974868774414,0.06879568099975586,0.01322484016418457,0.13735198974609375,0.14777064323425293,-0.07101845741271973,-0.08715987205505371,0.06510186195373535,0.08056211471557617,0.08915233612060547,0.09572386741638184,-0.07695317268371582,0.05359292030334473,-0.1560513973236084,-0.04006552696228027,0.024396896362304688,-0.011718988418579102,-0.0021054744720458984,0.246079683303833,-0.009175300598144531,-0.07784485816955566,-0.2011585235595703,0.16609930992126465,0.10822367668151855,-0.09789896011352539,-0.02888321876525879,-0.041724443435668945,0.018386363983154297,-0.1367347240447998,0.07395577430725098,0.08784699440002441,0.024809598922729492,0.10382199287414551,-0.10762596130371094,0.04009842872619629,-0.013356208801269531,-0.08219337463378906,0.03180837631225586,-0.022747039794921875,-0.029992341995239258,-0.07794713973999023,-0.14709043502807617,0.017493009567260742,0.023164033889770508,0.10407471656799316,0.17795181274414062,-0.22724223136901855,-0.025092363357543945],\"yaxis\":\"y\",\"type\":\"scatter\"}],                        {\"template\":{\"data\":{\"barpolar\":[{\"marker\":{\"line\":{\"color\":\"white\",\"width\":0.5},\"pattern\":{\"fillmode\":\"overlay\",\"size\":10,\"solidity\":0.2}},\"type\":\"barpolar\"}],\"bar\":[{\"error_x\":{\"color\":\"#2a3f5f\"},\"error_y\":{\"color\":\"#2a3f5f\"},\"marker\":{\"line\":{\"color\":\"white\",\"width\":0.5},\"pattern\":{\"fillmode\":\"overlay\",\"size\":10,\"solidity\":0.2}},\"type\":\"bar\"}],\"carpet\":[{\"aaxis\":{\"endlinecolor\":\"#2a3f5f\",\"gridcolor\":\"#C8D4E3\",\"linecolor\":\"#C8D4E3\",\"minorgridcolor\":\"#C8D4E3\",\"startlinecolor\":\"#2a3f5f\"},\"baxis\":{\"endlinecolor\":\"#2a3f5f\",\"gridcolor\":\"#C8D4E3\",\"linecolor\":\"#C8D4E3\",\"minorgridcolor\":\"#C8D4E3\",\"startlinecolor\":\"#2a3f5f\"},\"type\":\"carpet\"}],\"choropleth\":[{\"colorbar\":{\"outlinewidth\":0,\"ticks\":\"\"},\"type\":\"choropleth\"}],\"contourcarpet\":[{\"colorbar\":{\"outlinewidth\":0,\"ticks\":\"\"},\"type\":\"contourcarpet\"}],\"contour\":[{\"colorbar\":{\"outlinewidth\":0,\"ticks\":\"\"},\"colorscale\":[[0.0,\"#0d0887\"],[0.1111111111111111,\"#46039f\"],[0.2222222222222222,\"#7201a8\"],[0.3333333333333333,\"#9c179e\"],[0.4444444444444444,\"#bd3786\"],[0.5555555555555556,\"#d8576b\"],[0.6666666666666666,\"#ed7953\"],[0.7777777777777778,\"#fb9f3a\"],[0.8888888888888888,\"#fdca26\"],[1.0,\"#f0f921\"]],\"type\":\"contour\"}],\"heatmapgl\":[{\"colorbar\":{\"outlinewidth\":0,\"ticks\":\"\"},\"colorscale\":[[0.0,\"#0d0887\"],[0.1111111111111111,\"#46039f\"],[0.2222222222222222,\"#7201a8\"],[0.3333333333333333,\"#9c179e\"],[0.4444444444444444,\"#bd3786\"],[0.5555555555555556,\"#d8576b\"],[0.6666666666666666,\"#ed7953\"],[0.7777777777777778,\"#fb9f3a\"],[0.8888888888888888,\"#fdca26\"],[1.0,\"#f0f921\"]],\"type\":\"heatmapgl\"}],\"heatmap\":[{\"colorbar\":{\"outlinewidth\":0,\"ticks\":\"\"},\"colorscale\":[[0.0,\"#0d0887\"],[0.1111111111111111,\"#46039f\"],[0.2222222222222222,\"#7201a8\"],[0.3333333333333333,\"#9c179e\"],[0.4444444444444444,\"#bd3786\"],[0.5555555555555556,\"#d8576b\"],[0.6666666666666666,\"#ed7953\"],[0.7777777777777778,\"#fb9f3a\"],[0.8888888888888888,\"#fdca26\"],[1.0,\"#f0f921\"]],\"type\":\"heatmap\"}],\"histogram2dcontour\":[{\"colorbar\":{\"outlinewidth\":0,\"ticks\":\"\"},\"colorscale\":[[0.0,\"#0d0887\"],[0.1111111111111111,\"#46039f\"],[0.2222222222222222,\"#7201a8\"],[0.3333333333333333,\"#9c179e\"],[0.4444444444444444,\"#bd3786\"],[0.5555555555555556,\"#d8576b\"],[0.6666666666666666,\"#ed7953\"],[0.7777777777777778,\"#fb9f3a\"],[0.8888888888888888,\"#fdca26\"],[1.0,\"#f0f921\"]],\"type\":\"histogram2dcontour\"}],\"histogram2d\":[{\"colorbar\":{\"outlinewidth\":0,\"ticks\":\"\"},\"colorscale\":[[0.0,\"#0d0887\"],[0.1111111111111111,\"#46039f\"],[0.2222222222222222,\"#7201a8\"],[0.3333333333333333,\"#9c179e\"],[0.4444444444444444,\"#bd3786\"],[0.5555555555555556,\"#d8576b\"],[0.6666666666666666,\"#ed7953\"],[0.7777777777777778,\"#fb9f3a\"],[0.8888888888888888,\"#fdca26\"],[1.0,\"#f0f921\"]],\"type\":\"histogram2d\"}],\"histogram\":[{\"marker\":{\"pattern\":{\"fillmode\":\"overlay\",\"size\":10,\"solidity\":0.2}},\"type\":\"histogram\"}],\"mesh3d\":[{\"colorbar\":{\"outlinewidth\":0,\"ticks\":\"\"},\"type\":\"mesh3d\"}],\"parcoords\":[{\"line\":{\"colorbar\":{\"outlinewidth\":0,\"ticks\":\"\"}},\"type\":\"parcoords\"}],\"pie\":[{\"automargin\":true,\"type\":\"pie\"}],\"scatter3d\":[{\"line\":{\"colorbar\":{\"outlinewidth\":0,\"ticks\":\"\"}},\"marker\":{\"colorbar\":{\"outlinewidth\":0,\"ticks\":\"\"}},\"type\":\"scatter3d\"}],\"scattercarpet\":[{\"marker\":{\"colorbar\":{\"outlinewidth\":0,\"ticks\":\"\"}},\"type\":\"scattercarpet\"}],\"scattergeo\":[{\"marker\":{\"colorbar\":{\"outlinewidth\":0,\"ticks\":\"\"}},\"type\":\"scattergeo\"}],\"scattergl\":[{\"marker\":{\"colorbar\":{\"outlinewidth\":0,\"ticks\":\"\"}},\"type\":\"scattergl\"}],\"scattermapbox\":[{\"marker\":{\"colorbar\":{\"outlinewidth\":0,\"ticks\":\"\"}},\"type\":\"scattermapbox\"}],\"scatterpolargl\":[{\"marker\":{\"colorbar\":{\"outlinewidth\":0,\"ticks\":\"\"}},\"type\":\"scatterpolargl\"}],\"scatterpolar\":[{\"marker\":{\"colorbar\":{\"outlinewidth\":0,\"ticks\":\"\"}},\"type\":\"scatterpolar\"}],\"scatter\":[{\"fillpattern\":{\"fillmode\":\"overlay\",\"size\":10,\"solidity\":0.2},\"type\":\"scatter\"}],\"scatterternary\":[{\"marker\":{\"colorbar\":{\"outlinewidth\":0,\"ticks\":\"\"}},\"type\":\"scatterternary\"}],\"surface\":[{\"colorbar\":{\"outlinewidth\":0,\"ticks\":\"\"},\"colorscale\":[[0.0,\"#0d0887\"],[0.1111111111111111,\"#46039f\"],[0.2222222222222222,\"#7201a8\"],[0.3333333333333333,\"#9c179e\"],[0.4444444444444444,\"#bd3786\"],[0.5555555555555556,\"#d8576b\"],[0.6666666666666666,\"#ed7953\"],[0.7777777777777778,\"#fb9f3a\"],[0.8888888888888888,\"#fdca26\"],[1.0,\"#f0f921\"]],\"type\":\"surface\"}],\"table\":[{\"cells\":{\"fill\":{\"color\":\"#EBF0F8\"},\"line\":{\"color\":\"white\"}},\"header\":{\"fill\":{\"color\":\"#C8D4E3\"},\"line\":{\"color\":\"white\"}},\"type\":\"table\"}]},\"layout\":{\"annotationdefaults\":{\"arrowcolor\":\"#2a3f5f\",\"arrowhead\":0,\"arrowwidth\":1},\"autotypenumbers\":\"strict\",\"coloraxis\":{\"colorbar\":{\"outlinewidth\":0,\"ticks\":\"\"}},\"colorscale\":{\"diverging\":[[0,\"#8e0152\"],[0.1,\"#c51b7d\"],[0.2,\"#de77ae\"],[0.3,\"#f1b6da\"],[0.4,\"#fde0ef\"],[0.5,\"#f7f7f7\"],[0.6,\"#e6f5d0\"],[0.7,\"#b8e186\"],[0.8,\"#7fbc41\"],[0.9,\"#4d9221\"],[1,\"#276419\"]],\"sequential\":[[0.0,\"#0d0887\"],[0.1111111111111111,\"#46039f\"],[0.2222222222222222,\"#7201a8\"],[0.3333333333333333,\"#9c179e\"],[0.4444444444444444,\"#bd3786\"],[0.5555555555555556,\"#d8576b\"],[0.6666666666666666,\"#ed7953\"],[0.7777777777777778,\"#fb9f3a\"],[0.8888888888888888,\"#fdca26\"],[1.0,\"#f0f921\"]],\"sequentialminus\":[[0.0,\"#0d0887\"],[0.1111111111111111,\"#46039f\"],[0.2222222222222222,\"#7201a8\"],[0.3333333333333333,\"#9c179e\"],[0.4444444444444444,\"#bd3786\"],[0.5555555555555556,\"#d8576b\"],[0.6666666666666666,\"#ed7953\"],[0.7777777777777778,\"#fb9f3a\"],[0.8888888888888888,\"#fdca26\"],[1.0,\"#f0f921\"]]},\"colorway\":[\"#636efa\",\"#EF553B\",\"#00cc96\",\"#ab63fa\",\"#FFA15A\",\"#19d3f3\",\"#FF6692\",\"#B6E880\",\"#FF97FF\",\"#FECB52\"],\"font\":{\"color\":\"#2a3f5f\"},\"geo\":{\"bgcolor\":\"white\",\"lakecolor\":\"white\",\"landcolor\":\"white\",\"showlakes\":true,\"showland\":true,\"subunitcolor\":\"#C8D4E3\"},\"hoverlabel\":{\"align\":\"left\"},\"hovermode\":\"closest\",\"mapbox\":{\"style\":\"light\"},\"paper_bgcolor\":\"white\",\"plot_bgcolor\":\"white\",\"polar\":{\"angularaxis\":{\"gridcolor\":\"#EBF0F8\",\"linecolor\":\"#EBF0F8\",\"ticks\":\"\"},\"bgcolor\":\"white\",\"radialaxis\":{\"gridcolor\":\"#EBF0F8\",\"linecolor\":\"#EBF0F8\",\"ticks\":\"\"}},\"scene\":{\"xaxis\":{\"backgroundcolor\":\"white\",\"gridcolor\":\"#DFE8F3\",\"gridwidth\":2,\"linecolor\":\"#EBF0F8\",\"showbackground\":true,\"ticks\":\"\",\"zerolinecolor\":\"#EBF0F8\"},\"yaxis\":{\"backgroundcolor\":\"white\",\"gridcolor\":\"#DFE8F3\",\"gridwidth\":2,\"linecolor\":\"#EBF0F8\",\"showbackground\":true,\"ticks\":\"\",\"zerolinecolor\":\"#EBF0F8\"},\"zaxis\":{\"backgroundcolor\":\"white\",\"gridcolor\":\"#DFE8F3\",\"gridwidth\":2,\"linecolor\":\"#EBF0F8\",\"showbackground\":true,\"ticks\":\"\",\"zerolinecolor\":\"#EBF0F8\"}},\"shapedefaults\":{\"line\":{\"color\":\"#2a3f5f\"}},\"ternary\":{\"aaxis\":{\"gridcolor\":\"#DFE8F3\",\"linecolor\":\"#A2B1C6\",\"ticks\":\"\"},\"baxis\":{\"gridcolor\":\"#DFE8F3\",\"linecolor\":\"#A2B1C6\",\"ticks\":\"\"},\"bgcolor\":\"white\",\"caxis\":{\"gridcolor\":\"#DFE8F3\",\"linecolor\":\"#A2B1C6\",\"ticks\":\"\"}},\"title\":{\"x\":0.05},\"xaxis\":{\"automargin\":true,\"gridcolor\":\"#EBF0F8\",\"linecolor\":\"#EBF0F8\",\"ticks\":\"\",\"title\":{\"standoff\":15},\"zerolinecolor\":\"#EBF0F8\",\"zerolinewidth\":2},\"yaxis\":{\"automargin\":true,\"gridcolor\":\"#EBF0F8\",\"linecolor\":\"#EBF0F8\",\"ticks\":\"\",\"title\":{\"standoff\":15},\"zerolinecolor\":\"#EBF0F8\",\"zerolinewidth\":2}}},\"xaxis\":{\"anchor\":\"y\",\"domain\":[0.0,1.0],\"title\":{\"text\":\"Epoch\"}},\"yaxis\":{\"anchor\":\"x\",\"domain\":[0.0,1.0],\"title\":{\"text\":\"Loss\"}},\"legend\":{\"title\":{\"text\":\"\"},\"tracegroupgap\":0,\"orientation\":\"v\"},\"margin\":{\"t\":60},\"font\":{\"size\":18},\"plot_bgcolor\":\"#F5F5F8\",\"title\":{\"text\":\"CTGAN loss function\"}},                        {\"responsive\": true}                    ).then(function(){\n",
       "                            \n",
       "var gd = document.getElementById('06a54fb7-aea0-411c-b340-4878370ec880');\n",
       "var x = new MutationObserver(function (mutations, observer) {{\n",
       "        var display = window.getComputedStyle(gd).display;\n",
       "        if (!display || display === 'none') {{\n",
       "            console.log([gd, 'removed!']);\n",
       "            Plotly.purge(gd);\n",
       "            observer.disconnect();\n",
       "        }}\n",
       "}});\n",
       "\n",
       "// Listen for the removal of the full notebook cells\n",
       "var notebookContainer = gd.closest('#notebook-container');\n",
       "if (notebookContainer) {{\n",
       "    x.observe(notebookContainer, {childList: true});\n",
       "}}\n",
       "\n",
       "// Listen for the clearing of the current output cell\n",
       "var outputEl = gd.closest('.output');\n",
       "if (outputEl) {{\n",
       "    x.observe(outputEl, {childList: true});\n",
       "}}\n",
       "\n",
       "                        })                };                });            </script>        </div>"
      ]
     },
     "metadata": {},
     "output_type": "display_data"
    }
   ],
   "source": [
    "fig = synthesizer.get_loss_values_plot()\n",
    "fig.show()"
   ]
  },
  {
   "cell_type": "code",
   "execution_count": 23,
   "id": "93ca59a8",
   "metadata": {
    "execution": {
     "iopub.execute_input": "2024-11-24T03:26:09.568980Z",
     "iopub.status.busy": "2024-11-24T03:26:09.568032Z",
     "iopub.status.idle": "2024-11-24T03:26:09.652655Z",
     "shell.execute_reply": "2024-11-24T03:26:09.651651Z"
    },
    "papermill": {
     "duration": 0.099633,
     "end_time": "2024-11-24T03:26:09.656412",
     "exception": false,
     "start_time": "2024-11-24T03:26:09.556779",
     "status": "completed"
    },
    "tags": []
   },
   "outputs": [
    {
     "name": "stdout",
     "output_type": "stream",
     "text": [
      "Original Means:\n",
      "Academic Pressure                          3.142227\n",
      "Age                                       25.822300\n",
      "CGPA                                       7.658575\n",
      "Depression                                 0.585499\n",
      "Financial Stress                           3.139867\n",
      "Study Satisfaction                         2.944893\n",
      "Work/Study Hours                           7.156984\n",
      "Name                                     124.655819\n",
      "Gender                                     0.557220\n",
      "City                                      26.294291\n",
      "Sleep Duration                            10.794846\n",
      "Dietary Habits                             8.093258\n",
      "Degree                                    27.692341\n",
      "Have you ever had suicidal thoughts ?      0.632809\n",
      "Family History of Mental Illness           0.483961\n",
      "dtype: float64\n",
      "\n",
      "Adjusted Means:\n",
      "Name                                     123.366188\n",
      "Gender                                     0.482563\n",
      "Age                                       26.382101\n",
      "City                                      27.230529\n",
      "Academic Pressure                          3.431630\n",
      "CGPA                                       7.764532\n",
      "Study Satisfaction                         2.559143\n",
      "Sleep Duration                            11.708648\n",
      "Dietary Habits                             7.047740\n",
      "Degree                                    27.637791\n",
      "Have you ever had suicidal thoughts ?      0.681553\n",
      "Work/Study Hours                           6.963621\n",
      "Financial Stress                           3.086775\n",
      "Family History of Mental Illness           0.504892\n",
      "Depression                                 0.657575\n",
      "dtype: float64\n",
      "\n",
      "Original Standard Deviations:\n",
      "Academic Pressure                         1.380535\n",
      "Age                                       4.905687\n",
      "CGPA                                      1.464499\n",
      "Depression                                0.492645\n",
      "Financial Stress                          1.437347\n",
      "Study Satisfaction                        1.360250\n",
      "Work/Study Hours                          3.707642\n",
      "Name                                     82.028500\n",
      "Gender                                    0.496724\n",
      "City                                     16.356033\n",
      "Sleep Duration                            2.458047\n",
      "Dietary Habits                            3.246478\n",
      "Degree                                   15.603376\n",
      "Have you ever had suicidal thoughts ?     0.482048\n",
      "Family History of Mental Illness          0.499752\n",
      "dtype: float64\n",
      "\n",
      "Adjusted Standard Deviations:\n",
      "Name                                     82.116813\n",
      "Gender                                    0.499705\n",
      "Age                                       5.372789\n",
      "City                                     16.924008\n",
      "Academic Pressure                         1.209960\n",
      "CGPA                                      1.236150\n",
      "Study Satisfaction                        1.481917\n",
      "Sleep Duration                            2.365315\n",
      "Dietary Habits                            3.527528\n",
      "Degree                                   15.942839\n",
      "Have you ever had suicidal thoughts ?     0.465882\n",
      "Work/Study Hours                          3.037874\n",
      "Financial Stress                          1.210866\n",
      "Family History of Mental Illness          0.499985\n",
      "Depression                                0.474529\n",
      "dtype: float64\n",
      "\n",
      "Original Correlation Matrix:\n",
      "                                       Academic Pressure       Age      CGPA  \\\n",
      "Academic Pressure                               1.000000 -0.076017 -0.025167   \n",
      "Age                                            -0.076017  1.000000  0.005103   \n",
      "CGPA                                           -0.025167  0.005103  1.000000   \n",
      "Depression                                      0.475106 -0.226422  0.021829   \n",
      "Financial Stress                                0.152066 -0.095026  0.006530   \n",
      "Study Satisfaction                             -0.112216  0.008942 -0.047019   \n",
      "Work/Study Hours                                0.095712 -0.032928  0.002798   \n",
      "Name                                            0.011128 -0.017609  0.002410   \n",
      "Gender                                         -0.022247  0.009071  0.036576   \n",
      "City                                           -0.021077  0.047156 -0.028996   \n",
      "Sleep Duration                                 -0.004470 -0.011759 -0.019624   \n",
      "Dietary Habits                                  0.079958 -0.047834  0.002588   \n",
      "Degree                                         -0.006988  0.079878 -0.020864   \n",
      "Have you ever had suicidal thoughts ?           0.261821 -0.113502  0.008669   \n",
      "Family History of Mental Illness                0.030041 -0.004861 -0.004278   \n",
      "\n",
      "                                       Depression  Financial Stress  \\\n",
      "Academic Pressure                        0.475106          0.152066   \n",
      "Age                                     -0.226422         -0.095026   \n",
      "CGPA                                     0.021829          0.006530   \n",
      "Depression                               1.000000          0.363591   \n",
      "Financial Stress                         0.363591          1.000000   \n",
      "Study Satisfaction                      -0.168119         -0.064976   \n",
      "Work/Study Hours                         0.208563          0.075283   \n",
      "Name                                     0.013800          0.008669   \n",
      "Gender                                   0.001794         -0.005491   \n",
      "City                                    -0.024788         -0.004037   \n",
      "Sleep Duration                          -0.016060          0.000301   \n",
      "Dietary Habits                           0.191823          0.075940   \n",
      "Degree                                  -0.013770         -0.000328   \n",
      "Have you ever had suicidal thoughts ?    0.546277          0.209151   \n",
      "Family History of Mental Illness         0.053430          0.008516   \n",
      "\n",
      "                                       Study Satisfaction  Work/Study Hours  \\\n",
      "Academic Pressure                               -0.112216          0.095712   \n",
      "Age                                              0.008942         -0.032928   \n",
      "CGPA                                            -0.047019          0.002798   \n",
      "Depression                                      -0.168119          0.208563   \n",
      "Financial Stress                                -0.064976          0.075283   \n",
      "Study Satisfaction                               1.000000         -0.036914   \n",
      "Work/Study Hours                                -0.036914          1.000000   \n",
      "Name                                            -0.009637         -0.002945   \n",
      "Gender                                          -0.015895          0.013008   \n",
      "City                                             0.006720         -0.002682   \n",
      "Sleep Duration                                   0.002860         -0.036105   \n",
      "Dietary Habits                                  -0.023643          0.027349   \n",
      "Degree                                           0.008672         -0.005542   \n",
      "Have you ever had suicidal thoughts ?           -0.083466          0.121315   \n",
      "Family History of Mental Illness                -0.004014          0.017434   \n",
      "\n",
      "                                           Name    Gender      City  \\\n",
      "Academic Pressure                      0.011128 -0.022247 -0.021077   \n",
      "Age                                   -0.017609  0.009071  0.047156   \n",
      "CGPA                                   0.002410  0.036576 -0.028996   \n",
      "Depression                             0.013800  0.001794 -0.024788   \n",
      "Financial Stress                       0.008669 -0.005491 -0.004037   \n",
      "Study Satisfaction                    -0.009637 -0.015895  0.006720   \n",
      "Work/Study Hours                      -0.002945  0.013008 -0.002682   \n",
      "Name                                   1.000000 -0.003574  0.006198   \n",
      "Gender                                -0.003574  1.000000 -0.022073   \n",
      "City                                   0.006198 -0.022073  1.000000   \n",
      "Sleep Duration                         0.019143  0.012609 -0.009179   \n",
      "Dietary Habits                        -0.014089  0.050301 -0.005930   \n",
      "Degree                                -0.006668  0.016034 -0.005644   \n",
      "Have you ever had suicidal thoughts ?  0.007443 -0.001239 -0.005369   \n",
      "Family History of Mental Illness      -0.000958 -0.015759  0.004184   \n",
      "\n",
      "                                       Sleep Duration  Dietary Habits  \\\n",
      "Academic Pressure                           -0.004470        0.079958   \n",
      "Age                                         -0.011759       -0.047834   \n",
      "CGPA                                        -0.019624        0.002588   \n",
      "Depression                                  -0.016060        0.191823   \n",
      "Financial Stress                             0.000301        0.075940   \n",
      "Study Satisfaction                           0.002860       -0.023643   \n",
      "Work/Study Hours                            -0.036105        0.027349   \n",
      "Name                                         0.019143       -0.014089   \n",
      "Gender                                       0.012609        0.050301   \n",
      "City                                        -0.009179       -0.005930   \n",
      "Sleep Duration                               1.000000        0.014008   \n",
      "Dietary Habits                               0.014008        1.000000   \n",
      "Degree                                       0.002043       -0.020511   \n",
      "Have you ever had suicidal thoughts ?       -0.015784        0.105868   \n",
      "Family History of Mental Illness             0.000006        0.003087   \n",
      "\n",
      "                                         Degree  \\\n",
      "Academic Pressure                     -0.006988   \n",
      "Age                                    0.079878   \n",
      "CGPA                                  -0.020864   \n",
      "Depression                            -0.013770   \n",
      "Financial Stress                      -0.000328   \n",
      "Study Satisfaction                     0.008672   \n",
      "Work/Study Hours                      -0.005542   \n",
      "Name                                  -0.006668   \n",
      "Gender                                 0.016034   \n",
      "City                                  -0.005644   \n",
      "Sleep Duration                         0.002043   \n",
      "Dietary Habits                        -0.020511   \n",
      "Degree                                 1.000000   \n",
      "Have you ever had suicidal thoughts ? -0.001082   \n",
      "Family History of Mental Illness       0.012007   \n",
      "\n",
      "                                       Have you ever had suicidal thoughts ?  \\\n",
      "Academic Pressure                                                   0.261821   \n",
      "Age                                                                -0.113502   \n",
      "CGPA                                                                0.008669   \n",
      "Depression                                                          0.546277   \n",
      "Financial Stress                                                    0.209151   \n",
      "Study Satisfaction                                                 -0.083466   \n",
      "Work/Study Hours                                                    0.121315   \n",
      "Name                                                                0.007443   \n",
      "Gender                                                             -0.001239   \n",
      "City                                                               -0.005369   \n",
      "Sleep Duration                                                     -0.015784   \n",
      "Dietary Habits                                                      0.105868   \n",
      "Degree                                                             -0.001082   \n",
      "Have you ever had suicidal thoughts ?                               1.000000   \n",
      "Family History of Mental Illness                                    0.026213   \n",
      "\n",
      "                                       Family History of Mental Illness  \n",
      "Academic Pressure                                              0.030041  \n",
      "Age                                                           -0.004861  \n",
      "CGPA                                                          -0.004278  \n",
      "Depression                                                     0.053430  \n",
      "Financial Stress                                               0.008516  \n",
      "Study Satisfaction                                            -0.004014  \n",
      "Work/Study Hours                                               0.017434  \n",
      "Name                                                          -0.000958  \n",
      "Gender                                                        -0.015759  \n",
      "City                                                           0.004184  \n",
      "Sleep Duration                                                 0.000006  \n",
      "Dietary Habits                                                 0.003087  \n",
      "Degree                                                         0.012007  \n",
      "Have you ever had suicidal thoughts ?                          0.026213  \n",
      "Family History of Mental Illness                               1.000000  \n",
      "\n",
      "Adjusted Correlation Matrix:\n",
      "                                           Name    Gender       Age      City  \\\n",
      "Name                                   1.000000  0.017054  0.033556  0.014678   \n",
      "Gender                                 0.017054  1.000000  0.191685  0.078025   \n",
      "Age                                    0.033556  0.191685  1.000000  0.063746   \n",
      "City                                   0.014678  0.078025  0.063746  1.000000   \n",
      "Academic Pressure                     -0.041587 -0.061814 -0.168289 -0.076441   \n",
      "CGPA                                  -0.012723  0.014006 -0.030406 -0.002224   \n",
      "Study Satisfaction                     0.051907  0.058375  0.100184  0.090442   \n",
      "Sleep Duration                        -0.026968 -0.012137 -0.015921  0.030891   \n",
      "Dietary Habits                        -0.005701  0.055657 -0.062525 -0.007287   \n",
      "Degree                                 0.004666  0.016960 -0.017564 -0.000995   \n",
      "Have you ever had suicidal thoughts ? -0.045183 -0.041326 -0.182241 -0.028915   \n",
      "Work/Study Hours                      -0.014382 -0.043449 -0.099120 -0.045374   \n",
      "Financial Stress                      -0.013342 -0.067429 -0.124216 -0.064946   \n",
      "Family History of Mental Illness       0.059857 -0.052487  0.001419  0.085468   \n",
      "Depression                            -0.057863 -0.083828 -0.226963 -0.058812   \n",
      "\n",
      "                                       Academic Pressure      CGPA  \\\n",
      "Name                                           -0.041587 -0.012723   \n",
      "Gender                                         -0.061814  0.014006   \n",
      "Age                                            -0.168289 -0.030406   \n",
      "City                                           -0.076441 -0.002224   \n",
      "Academic Pressure                               1.000000  0.061210   \n",
      "CGPA                                            0.061210  1.000000   \n",
      "Study Satisfaction                             -0.189259 -0.039778   \n",
      "Sleep Duration                                 -0.074417 -0.029049   \n",
      "Dietary Habits                                  0.153241  0.026069   \n",
      "Degree                                          0.114590  0.019699   \n",
      "Have you ever had suicidal thoughts ?           0.348966  0.087806   \n",
      "Work/Study Hours                                0.149356  0.048735   \n",
      "Financial Stress                                0.218781  0.036901   \n",
      "Family History of Mental Illness               -0.126492 -0.004618   \n",
      "Depression                                      0.414327  0.084680   \n",
      "\n",
      "                                       Study Satisfaction  Sleep Duration  \\\n",
      "Name                                             0.051907       -0.026968   \n",
      "Gender                                           0.058375       -0.012137   \n",
      "Age                                              0.100184       -0.015921   \n",
      "City                                             0.090442        0.030891   \n",
      "Academic Pressure                               -0.189259       -0.074417   \n",
      "CGPA                                            -0.039778       -0.029049   \n",
      "Study Satisfaction                               1.000000        0.072315   \n",
      "Sleep Duration                                   0.072315        1.000000   \n",
      "Dietary Habits                                  -0.062751       -0.071059   \n",
      "Degree                                          -0.065122       -0.031344   \n",
      "Have you ever had suicidal thoughts ?           -0.190934       -0.117700   \n",
      "Work/Study Hours                                -0.062084       -0.029414   \n",
      "Financial Stress                                -0.091657       -0.006606   \n",
      "Family History of Mental Illness                 0.133353        0.011980   \n",
      "Depression                                      -0.241682       -0.101566   \n",
      "\n",
      "                                       Dietary Habits    Degree  \\\n",
      "Name                                        -0.005701  0.004666   \n",
      "Gender                                       0.055657  0.016960   \n",
      "Age                                         -0.062525 -0.017564   \n",
      "City                                        -0.007287 -0.000995   \n",
      "Academic Pressure                            0.153241  0.114590   \n",
      "CGPA                                         0.026069  0.019699   \n",
      "Study Satisfaction                          -0.062751 -0.065122   \n",
      "Sleep Duration                              -0.071059 -0.031344   \n",
      "Dietary Habits                               1.000000  0.067158   \n",
      "Degree                                       0.067158  1.000000   \n",
      "Have you ever had suicidal thoughts ?        0.217315  0.081045   \n",
      "Work/Study Hours                             0.074979  0.043851   \n",
      "Financial Stress                             0.052641  0.085480   \n",
      "Family History of Mental Illness            -0.013769 -0.030156   \n",
      "Depression                                   0.217594  0.116440   \n",
      "\n",
      "                                       Have you ever had suicidal thoughts ?  \\\n",
      "Name                                                               -0.045183   \n",
      "Gender                                                             -0.041326   \n",
      "Age                                                                -0.182241   \n",
      "City                                                               -0.028915   \n",
      "Academic Pressure                                                   0.348966   \n",
      "CGPA                                                                0.087806   \n",
      "Study Satisfaction                                                 -0.190934   \n",
      "Sleep Duration                                                     -0.117700   \n",
      "Dietary Habits                                                      0.217315   \n",
      "Degree                                                              0.081045   \n",
      "Have you ever had suicidal thoughts ?                               1.000000   \n",
      "Work/Study Hours                                                    0.180612   \n",
      "Financial Stress                                                    0.188616   \n",
      "Family History of Mental Illness                                   -0.040935   \n",
      "Depression                                                          0.543865   \n",
      "\n",
      "                                       Work/Study Hours  Financial Stress  \\\n",
      "Name                                          -0.014382         -0.013342   \n",
      "Gender                                        -0.043449         -0.067429   \n",
      "Age                                           -0.099120         -0.124216   \n",
      "City                                          -0.045374         -0.064946   \n",
      "Academic Pressure                              0.149356          0.218781   \n",
      "CGPA                                           0.048735          0.036901   \n",
      "Study Satisfaction                            -0.062084         -0.091657   \n",
      "Sleep Duration                                -0.029414         -0.006606   \n",
      "Dietary Habits                                 0.074979          0.052641   \n",
      "Degree                                         0.043851          0.085480   \n",
      "Have you ever had suicidal thoughts ?          0.180612          0.188616   \n",
      "Work/Study Hours                               1.000000          0.111539   \n",
      "Financial Stress                               0.111539          1.000000   \n",
      "Family History of Mental Illness               0.008081         -0.054330   \n",
      "Depression                                     0.202151          0.242753   \n",
      "\n",
      "                                       Family History of Mental Illness  \\\n",
      "Name                                                           0.059857   \n",
      "Gender                                                        -0.052487   \n",
      "Age                                                            0.001419   \n",
      "City                                                           0.085468   \n",
      "Academic Pressure                                             -0.126492   \n",
      "CGPA                                                          -0.004618   \n",
      "Study Satisfaction                                             0.133353   \n",
      "Sleep Duration                                                 0.011980   \n",
      "Dietary Habits                                                -0.013769   \n",
      "Degree                                                        -0.030156   \n",
      "Have you ever had suicidal thoughts ?                         -0.040935   \n",
      "Work/Study Hours                                               0.008081   \n",
      "Financial Stress                                              -0.054330   \n",
      "Family History of Mental Illness                               1.000000   \n",
      "Depression                                                    -0.095364   \n",
      "\n",
      "                                       Depression  \n",
      "Name                                    -0.057863  \n",
      "Gender                                  -0.083828  \n",
      "Age                                     -0.226963  \n",
      "City                                    -0.058812  \n",
      "Academic Pressure                        0.414327  \n",
      "CGPA                                     0.084680  \n",
      "Study Satisfaction                      -0.241682  \n",
      "Sleep Duration                          -0.101566  \n",
      "Dietary Habits                           0.217594  \n",
      "Degree                                   0.116440  \n",
      "Have you ever had suicidal thoughts ?    0.543865  \n",
      "Work/Study Hours                         0.202151  \n",
      "Financial Stress                         0.242753  \n",
      "Family History of Mental Illness        -0.095364  \n",
      "Depression                               1.000000  \n",
      "\n",
      " Diff Mean %:\n",
      "Academic Pressure                         9.210111\n",
      "Age                                       2.167896\n",
      "CGPA                                      1.383514\n",
      "City                                      3.560616\n",
      "Degree                                   -0.196986\n",
      "Depression                               12.310235\n",
      "Dietary Habits                          -12.918383\n",
      "Family History of Mental Illness          4.324965\n",
      "Financial Stress                         -1.690877\n",
      "Gender                                  -13.398083\n",
      "Have you ever had suicidal thoughts ?     7.702764\n",
      "Name                                     -1.034554\n",
      "Sleep Duration                            8.465173\n",
      "Study Satisfaction                      -13.098940\n",
      "Work/Study Hours                         -2.701728\n",
      "dtype: float64\n",
      "\n",
      " Diff SD %:\n",
      "Academic Pressure                       -12.355659\n",
      "Age                                       9.521632\n",
      "CGPA                                    -15.592327\n",
      "City                                      3.472575\n",
      "Degree                                    2.175572\n",
      "Depression                               -3.677118\n",
      "Dietary Habits                            8.657089\n",
      "Family History of Mental Illness          0.046699\n",
      "Financial Stress                        -15.756885\n",
      "Gender                                    0.600105\n",
      "Have you ever had suicidal thoughts ?    -3.353494\n",
      "Name                                      0.107661\n",
      "Sleep Duration                           -3.772583\n",
      "Study Satisfaction                        8.944473\n",
      "Work/Study Hours                        -18.064537\n",
      "dtype: float64\n",
      "\n",
      " Diff Corr %:\n",
      "                                       Academic Pressure          Age  \\\n",
      "Academic Pressure                               0.000000   121.381890   \n",
      "Age                                           121.381890     0.000000   \n",
      "CGPA                                         -343.214040  -695.888283   \n",
      "City                                          262.677951    35.180406   \n",
      "Degree                                      -1739.792043  -121.988785   \n",
      "Depression                                    -12.792665     0.238891   \n",
      "Dietary Habits                                 91.651276    30.712509   \n",
      "Family History of Mental Illness             -521.062028  -129.186937   \n",
      "Financial Stress                               43.872804    30.718044   \n",
      "Gender                                        177.853695  2013.173753   \n",
      "Have you ever had suicidal thoughts ?          33.284397    60.562568   \n",
      "Name                                         -473.726467  -290.563940   \n",
      "Sleep Duration                               1564.930511    35.389346   \n",
      "Study Satisfaction                             68.656500  1020.338623   \n",
      "Work/Study Hours                               56.046884   201.019394   \n",
      "\n",
      "                                              CGPA         City        Degree  \\\n",
      "Academic Pressure                      -343.214040   262.677951  -1739.792043   \n",
      "Age                                    -695.888283    35.180406   -121.988785   \n",
      "CGPA                                      0.000000   -92.331015   -194.415452   \n",
      "City                                    -92.331015     0.000000    -82.369996   \n",
      "Degree                                 -194.415452   -82.369996      0.000000   \n",
      "Depression                              287.925102   137.261144   -945.639526   \n",
      "Dietary Habits                          907.489087    22.871686   -427.419790   \n",
      "Family History of Mental Illness          7.952919  1942.692053   -351.144158   \n",
      "Financial Stress                        465.083056  1508.790070 -26162.354663   \n",
      "Gender                                  -61.707591  -453.487558      5.777906   \n",
      "Have you ever had suicidal thoughts ?   912.824092   438.578671  -7593.328783   \n",
      "Name                                   -627.961259   136.797712   -169.971885   \n",
      "Sleep Duration                           48.031181  -436.558543  -1634.364555   \n",
      "Study Satisfaction                      -15.398683  1245.873981   -850.920703   \n",
      "Work/Study Hours                       1642.002980  1592.060026   -891.311613   \n",
      "\n",
      "                                        Depression  Dietary Habits  \\\n",
      "Academic Pressure                       -12.792665       91.651276   \n",
      "Age                                       0.238891       30.712509   \n",
      "CGPA                                    287.925102      907.489087   \n",
      "City                                    137.261144       22.871686   \n",
      "Degree                                 -945.639526     -427.419790   \n",
      "Depression                                0.000000       13.434805   \n",
      "Dietary Habits                           13.434805        0.000000   \n",
      "Family History of Mental Illness       -278.482910     -546.025617   \n",
      "Financial Stress                        -33.234780      -30.680095   \n",
      "Gender                                -4771.565443       10.649088   \n",
      "Have you ever had suicidal thoughts ?    -0.441482      105.270489   \n",
      "Name                                   -519.284089      -59.535018   \n",
      "Sleep Duration                          532.401704     -607.270982   \n",
      "Study Satisfaction                       43.755889      165.411477   \n",
      "Work/Study Hours                         -3.074068      174.157092   \n",
      "\n",
      "                                       Family History of Mental Illness  \\\n",
      "Academic Pressure                                           -521.062028   \n",
      "Age                                                         -129.186937   \n",
      "CGPA                                                           7.952919   \n",
      "City                                                        1942.692053   \n",
      "Degree                                                      -351.144158   \n",
      "Depression                                                  -278.482910   \n",
      "Dietary Habits                                              -546.025617   \n",
      "Family History of Mental Illness                               0.000000   \n",
      "Financial Stress                                            -737.941269   \n",
      "Gender                                                       233.062488   \n",
      "Have you ever had suicidal thoughts ?                       -256.164890   \n",
      "Name                                                       -6349.063274   \n",
      "Sleep Duration                                            211959.086632   \n",
      "Study Satisfaction                                         -3422.077477   \n",
      "Work/Study Hours                                             -53.644953   \n",
      "\n",
      "                                       Financial Stress       Gender  \\\n",
      "Academic Pressure                             43.872804   177.853695   \n",
      "Age                                           30.718044  2013.173753   \n",
      "CGPA                                         465.083056   -61.707591   \n",
      "City                                        1508.790070  -453.487558   \n",
      "Degree                                    -26162.354663     5.777906   \n",
      "Depression                                   -33.234780 -4771.565443   \n",
      "Dietary Habits                               -30.680095    10.649088   \n",
      "Family History of Mental Illness            -737.941269   233.062488   \n",
      "Financial Stress                               0.000000  1127.985464   \n",
      "Gender                                      1127.985464     0.000000   \n",
      "Have you ever had suicidal thoughts ?         -9.817972  3234.585247   \n",
      "Name                                        -253.911205  -577.165597   \n",
      "Sleep Duration                             -2298.269429  -196.257424   \n",
      "Study Satisfaction                            41.062794  -467.264073   \n",
      "Work/Study Hours                              48.158678  -434.020898   \n",
      "\n",
      "                                       Have you ever had suicidal thoughts ?  \\\n",
      "Academic Pressure                                                  33.284397   \n",
      "Age                                                                60.562568   \n",
      "CGPA                                                              912.824092   \n",
      "City                                                              438.578671   \n",
      "Degree                                                          -7593.328783   \n",
      "Depression                                                         -0.441482   \n",
      "Dietary Habits                                                    105.270489   \n",
      "Family History of Mental Illness                                 -256.164890   \n",
      "Financial Stress                                                   -9.817972   \n",
      "Gender                                                           3234.585247   \n",
      "Have you ever had suicidal thoughts ?                               0.000000   \n",
      "Name                                                             -707.075559   \n",
      "Sleep Duration                                                    645.687423   \n",
      "Study Satisfaction                                                128.758032   \n",
      "Work/Study Hours                                                   48.879430   \n",
      "\n",
      "                                              Name  Sleep Duration  \\\n",
      "Academic Pressure                      -473.726467     1564.930511   \n",
      "Age                                    -290.563940       35.389346   \n",
      "CGPA                                   -627.961259       48.031181   \n",
      "City                                    136.797712     -436.558543   \n",
      "Degree                                 -169.971885    -1634.364555   \n",
      "Depression                             -519.284089      532.401704   \n",
      "Dietary Habits                          -59.535018     -607.270982   \n",
      "Family History of Mental Illness      -6349.063274   211959.086632   \n",
      "Financial Stress                       -253.911205    -2298.269429   \n",
      "Gender                                 -577.165597     -196.257424   \n",
      "Have you ever had suicidal thoughts ?  -707.075559      645.687423   \n",
      "Name                                      0.000000     -240.875931   \n",
      "Sleep Duration                         -240.875931        0.000000   \n",
      "Study Satisfaction                     -638.591234     2428.842046   \n",
      "Work/Study Hours                        388.314745      -18.533871   \n",
      "\n",
      "                                       Study Satisfaction  Work/Study Hours  \n",
      "Academic Pressure                               68.656500         56.046884  \n",
      "Age                                           1020.338623        201.019394  \n",
      "CGPA                                           -15.398683       1642.002980  \n",
      "City                                          1245.873981       1592.060026  \n",
      "Degree                                        -850.920703       -891.311613  \n",
      "Depression                                      43.755889         -3.074068  \n",
      "Dietary Habits                                 165.411477        174.157092  \n",
      "Family History of Mental Illness             -3422.077477        -53.644953  \n",
      "Financial Stress                                41.062794         48.158678  \n",
      "Gender                                        -467.264073       -434.020898  \n",
      "Have you ever had suicidal thoughts ?          128.758032         48.879430  \n",
      "Name                                          -638.591234        388.314745  \n",
      "Sleep Duration                                2428.842046        -18.533871  \n",
      "Study Satisfaction                               0.000000         68.183594  \n",
      "Work/Study Hours                                68.183594          0.000000  \n"
     ]
    }
   ],
   "source": [
    "\n",
    "# Verify adjustments\n",
    "adjusted_means = synthetic_data.mean()\n",
    "adjusted_stds = synthetic_data.std()\n",
    "adjusted_corr = synthetic_data.corr()\n",
    "\n",
    "original_means = numeric_student.mean()\n",
    "original_stds = numeric_student.std()\n",
    "original_corr = numeric_student.corr()\n",
    "\n",
    "\n",
    "print(\"Original Means:\")\n",
    "print(original_means)\n",
    "print(\"\\nAdjusted Means:\")\n",
    "print(adjusted_means)\n",
    "\n",
    "print(\"\\nOriginal Standard Deviations:\")\n",
    "print(original_stds)\n",
    "print(\"\\nAdjusted Standard Deviations:\")\n",
    "print(adjusted_stds)\n",
    "\n",
    "print(\"\\nOriginal Correlation Matrix:\")\n",
    "print(original_corr)\n",
    "print(\"\\nAdjusted Correlation Matrix:\")\n",
    "print(adjusted_corr)\n",
    "\n",
    "diff_mean=(adjusted_means/original_means-1)*100\n",
    "diff_sd=(adjusted_stds/original_stds-1)*100\n",
    "diff_corr=(adjusted_corr/original_corr-1)*100\n",
    "print(\"\\n Diff Mean %:\")\n",
    "print(diff_mean)\n",
    "print(\"\\n Diff SD %:\")\n",
    "print(diff_sd)\n",
    "print(\"\\n Diff Corr %:\")\n",
    "print(diff_corr)"
   ]
  },
  {
   "cell_type": "code",
   "execution_count": null,
   "id": "77ec7149",
   "metadata": {
    "papermill": {
     "duration": 0.010495,
     "end_time": "2024-11-24T03:26:09.678368",
     "exception": false,
     "start_time": "2024-11-24T03:26:09.667873",
     "status": "completed"
    },
    "tags": []
   },
   "outputs": [],
   "source": []
  },
  {
   "cell_type": "code",
   "execution_count": 24,
   "id": "7edd659c",
   "metadata": {
    "execution": {
     "iopub.execute_input": "2024-11-24T03:26:09.701884Z",
     "iopub.status.busy": "2024-11-24T03:26:09.700971Z",
     "iopub.status.idle": "2024-11-24T03:26:09.705154Z",
     "shell.execute_reply": "2024-11-24T03:26:09.704288Z"
    },
    "papermill": {
     "duration": 0.017857,
     "end_time": "2024-11-24T03:26:09.707018",
     "exception": false,
     "start_time": "2024-11-24T03:26:09.689161",
     "status": "completed"
    },
    "tags": []
   },
   "outputs": [],
   "source": [
    "# synthetic_data = pd.read_csv('/kaggle/input/synthetic-and-model/numeric_synethetic_data.csv')"
   ]
  },
  {
   "cell_type": "code",
   "execution_count": 25,
   "id": "dc531f8f",
   "metadata": {
    "execution": {
     "iopub.execute_input": "2024-11-24T03:26:09.730205Z",
     "iopub.status.busy": "2024-11-24T03:26:09.729889Z",
     "iopub.status.idle": "2024-11-24T03:26:09.733764Z",
     "shell.execute_reply": "2024-11-24T03:26:09.732863Z"
    },
    "papermill": {
     "duration": 0.017657,
     "end_time": "2024-11-24T03:26:09.735588",
     "exception": false,
     "start_time": "2024-11-24T03:26:09.717931",
     "status": "completed"
    },
    "tags": []
   },
   "outputs": [],
   "source": [
    "# synthetic_data"
   ]
  },
  {
   "cell_type": "code",
   "execution_count": 26,
   "id": "78641421",
   "metadata": {
    "execution": {
     "iopub.execute_input": "2024-11-24T03:26:09.758626Z",
     "iopub.status.busy": "2024-11-24T03:26:09.758257Z",
     "iopub.status.idle": "2024-11-24T03:26:09.776213Z",
     "shell.execute_reply": "2024-11-24T03:26:09.775261Z"
    },
    "papermill": {
     "duration": 0.031545,
     "end_time": "2024-11-24T03:26:09.778175",
     "exception": false,
     "start_time": "2024-11-24T03:26:09.746630",
     "status": "completed"
    },
    "tags": []
   },
   "outputs": [
    {
     "name": "stdout",
     "output_type": "stream",
     "text": [
      "Name\n",
      "Gender\n",
      "City\n",
      "Sleep Duration\n",
      "Dietary Habits\n",
      "Degree\n",
      "Have you ever had suicidal thoughts ?\n",
      "Family History of Mental Illness\n"
     ]
    }
   ],
   "source": [
    "for key in d.keys():\n",
    "    print(key)\n",
    "    synthetic_data[key]=d[key].inverse_transform(synthetic_data[key])"
   ]
  },
  {
   "cell_type": "code",
   "execution_count": 27,
   "id": "4a735069",
   "metadata": {
    "execution": {
     "iopub.execute_input": "2024-11-24T03:26:09.807405Z",
     "iopub.status.busy": "2024-11-24T03:26:09.806741Z",
     "iopub.status.idle": "2024-11-24T03:26:09.814360Z",
     "shell.execute_reply": "2024-11-24T03:26:09.813350Z"
    },
    "papermill": {
     "duration": 0.02721,
     "end_time": "2024-11-24T03:26:09.816359",
     "exception": false,
     "start_time": "2024-11-24T03:26:09.789149",
     "status": "completed"
    },
    "tags": []
   },
   "outputs": [],
   "source": [
    "# student_train.drop(['id','Working Professional or Student','Profession','Work Pressure','Job Satisfaction'],axis=1, inplace=True)\n",
    "synthetic_data['Working Professional or Student']='Student'\n",
    "synthetic_data['Profession']='Student'\n",
    "synthetic_data['Work Pressure']=None\n",
    "synthetic_data['Job Satisfaction']=None\n"
   ]
  },
  {
   "cell_type": "code",
   "execution_count": 28,
   "id": "e5374fdb",
   "metadata": {
    "execution": {
     "iopub.execute_input": "2024-11-24T03:26:09.840402Z",
     "iopub.status.busy": "2024-11-24T03:26:09.839737Z",
     "iopub.status.idle": "2024-11-24T03:26:10.094104Z",
     "shell.execute_reply": "2024-11-24T03:26:10.093259Z"
    },
    "papermill": {
     "duration": 0.268863,
     "end_time": "2024-11-24T03:26:10.096310",
     "exception": false,
     "start_time": "2024-11-24T03:26:09.827447",
     "status": "completed"
    },
    "tags": []
   },
   "outputs": [],
   "source": [
    "synthetic_data.to_csv('synthetic_data.csv')"
   ]
  },
  {
   "cell_type": "code",
   "execution_count": null,
   "id": "cfdcd895",
   "metadata": {
    "papermill": {
     "duration": 0.010735,
     "end_time": "2024-11-24T03:26:10.121994",
     "exception": false,
     "start_time": "2024-11-24T03:26:10.111259",
     "status": "completed"
    },
    "tags": []
   },
   "outputs": [],
   "source": []
  }
 ],
 "metadata": {
  "kaggle": {
   "accelerator": "none",
   "dataSources": [
    {
     "databundleVersionId": 10008389,
     "sourceId": 84895,
     "sourceType": "competition"
    },
    {
     "datasetId": 6151859,
     "sourceId": 9995197,
     "sourceType": "datasetVersion"
    },
    {
     "datasetId": 6151909,
     "sourceId": 9995266,
     "sourceType": "datasetVersion"
    }
   ],
   "isGpuEnabled": false,
   "isInternetEnabled": true,
   "language": "python",
   "sourceType": "notebook"
  },
  "kernelspec": {
   "display_name": "Python 3",
   "language": "python",
   "name": "python3"
  },
  "language_info": {
   "codemirror_mode": {
    "name": "ipython",
    "version": 3
   },
   "file_extension": ".py",
   "mimetype": "text/x-python",
   "name": "python",
   "nbconvert_exporter": "python",
   "pygments_lexer": "ipython3",
   "version": "3.10.14"
  },
  "papermill": {
   "default_parameters": {},
   "duration": 10581.363278,
   "end_time": "2024-11-24T03:26:12.753607",
   "environment_variables": {},
   "exception": null,
   "input_path": "__notebook__.ipynb",
   "output_path": "__notebook__.ipynb",
   "parameters": {},
   "start_time": "2024-11-24T00:29:51.390329",
   "version": "2.6.0"
  }
 },
 "nbformat": 4,
 "nbformat_minor": 5
}
