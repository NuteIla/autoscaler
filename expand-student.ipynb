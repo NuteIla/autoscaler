{
 "cells": [
  {
   "cell_type": "code",
   "execution_count": 1,
   "id": "05c9e3ae",
   "metadata": {
    "execution": {
     "iopub.execute_input": "2024-11-23T01:33:36.650883Z",
     "iopub.status.busy": "2024-11-23T01:33:36.650291Z",
     "iopub.status.idle": "2024-11-23T01:34:34.125405Z",
     "shell.execute_reply": "2024-11-23T01:34:34.123989Z"
    },
    "papermill": {
     "duration": 57.488411,
     "end_time": "2024-11-23T01:34:34.128794",
     "exception": false,
     "start_time": "2024-11-23T01:33:36.640383",
     "status": "completed"
    },
    "tags": []
   },
   "outputs": [
    {
     "name": "stdout",
     "output_type": "stream",
     "text": [
      "Collecting sdv\r\n",
      "  Downloading sdv-1.17.2-py3-none-any.whl.metadata (13 kB)\r\n",
      "Collecting boto3<2.0.0,>=1.28 (from sdv)\r\n",
      "  Downloading boto3-1.35.68-py3-none-any.whl.metadata (6.7 kB)\r\n",
      "Requirement already satisfied: botocore<2.0.0,>=1.31 in /opt/conda/lib/python3.10/site-packages (from sdv) (1.35.23)\r\n",
      "Requirement already satisfied: cloudpickle>=2.1.0 in /opt/conda/lib/python3.10/site-packages (from sdv) (3.0.0)\r\n",
      "Requirement already satisfied: graphviz>=0.13.2 in /opt/conda/lib/python3.10/site-packages (from sdv) (0.20.3)\r\n",
      "Requirement already satisfied: tqdm>=4.29 in /opt/conda/lib/python3.10/site-packages (from sdv) (4.66.4)\r\n",
      "Collecting copulas>=0.12.0 (from sdv)\r\n",
      "  Downloading copulas-0.12.0-py3-none-any.whl.metadata (9.1 kB)\r\n",
      "Collecting ctgan>=0.10.2 (from sdv)\r\n",
      "  Downloading ctgan-0.10.2-py3-none-any.whl.metadata (10 kB)\r\n",
      "Collecting deepecho>=0.6.1 (from sdv)\r\n",
      "  Downloading deepecho-0.6.1-py3-none-any.whl.metadata (10 kB)\r\n",
      "Collecting rdt>=1.13.1 (from sdv)\r\n",
      "  Downloading rdt-1.13.1-py3-none-any.whl.metadata (10 kB)\r\n",
      "Collecting sdmetrics>=0.17.0 (from sdv)\r\n",
      "  Downloading sdmetrics-0.17.0-py3-none-any.whl.metadata (8.7 kB)\r\n",
      "Collecting platformdirs>=4.0 (from sdv)\r\n",
      "  Downloading platformdirs-4.3.6-py3-none-any.whl.metadata (11 kB)\r\n",
      "Requirement already satisfied: pyyaml>=6.0.1 in /opt/conda/lib/python3.10/site-packages (from sdv) (6.0.2)\r\n",
      "Requirement already satisfied: pandas>=1.4.0 in /opt/conda/lib/python3.10/site-packages (from sdv) (2.2.3)\r\n",
      "Requirement already satisfied: numpy>=1.23.3 in /opt/conda/lib/python3.10/site-packages (from sdv) (1.26.4)\r\n",
      "Collecting botocore<2.0.0,>=1.31 (from sdv)\r\n",
      "  Downloading botocore-1.35.68-py3-none-any.whl.metadata (5.7 kB)\r\n",
      "Requirement already satisfied: jmespath<2.0.0,>=0.7.1 in /opt/conda/lib/python3.10/site-packages (from boto3<2.0.0,>=1.28->sdv) (1.0.1)\r\n",
      "Collecting s3transfer<0.11.0,>=0.10.0 (from boto3<2.0.0,>=1.28->sdv)\r\n",
      "  Downloading s3transfer-0.10.4-py3-none-any.whl.metadata (1.7 kB)\r\n",
      "Requirement already satisfied: python-dateutil<3.0.0,>=2.1 in /opt/conda/lib/python3.10/site-packages (from botocore<2.0.0,>=1.31->sdv) (2.9.0.post0)\r\n",
      "Requirement already satisfied: urllib3!=2.2.0,<3,>=1.25.4 in /opt/conda/lib/python3.10/site-packages (from botocore<2.0.0,>=1.31->sdv) (1.26.18)\r\n",
      "Requirement already satisfied: plotly>=5.10.0 in /opt/conda/lib/python3.10/site-packages (from copulas>=0.12.0->sdv) (5.22.0)\r\n",
      "Requirement already satisfied: scipy>=1.9.2 in /opt/conda/lib/python3.10/site-packages (from copulas>=0.12.0->sdv) (1.14.1)\r\n",
      "Requirement already satisfied: torch>=1.11.0 in /opt/conda/lib/python3.10/site-packages (from ctgan>=0.10.2->sdv) (2.4.0+cpu)\r\n",
      "Requirement already satisfied: pytz>=2020.1 in /opt/conda/lib/python3.10/site-packages (from pandas>=1.4.0->sdv) (2024.1)\r\n",
      "Requirement already satisfied: tzdata>=2022.7 in /opt/conda/lib/python3.10/site-packages (from pandas>=1.4.0->sdv) (2024.1)\r\n",
      "Collecting Faker>=17 (from rdt>=1.13.1->sdv)\r\n",
      "  Downloading Faker-33.0.0-py3-none-any.whl.metadata (15 kB)\r\n",
      "Requirement already satisfied: scikit-learn>=1.1.0 in /opt/conda/lib/python3.10/site-packages (from rdt>=1.13.1->sdv) (1.2.2)\r\n",
      "Requirement already satisfied: typing-extensions in /opt/conda/lib/python3.10/site-packages (from Faker>=17->rdt>=1.13.1->sdv) (4.12.2)\r\n",
      "Requirement already satisfied: tenacity>=6.2.0 in /opt/conda/lib/python3.10/site-packages (from plotly>=5.10.0->copulas>=0.12.0->sdv) (8.3.0)\r\n",
      "Requirement already satisfied: packaging in /opt/conda/lib/python3.10/site-packages (from plotly>=5.10.0->copulas>=0.12.0->sdv) (21.3)\r\n",
      "Requirement already satisfied: six>=1.5 in /opt/conda/lib/python3.10/site-packages (from python-dateutil<3.0.0,>=2.1->botocore<2.0.0,>=1.31->sdv) (1.16.0)\r\n",
      "Requirement already satisfied: joblib>=1.1.1 in /opt/conda/lib/python3.10/site-packages (from scikit-learn>=1.1.0->rdt>=1.13.1->sdv) (1.4.2)\r\n",
      "Requirement already satisfied: threadpoolctl>=2.0.0 in /opt/conda/lib/python3.10/site-packages (from scikit-learn>=1.1.0->rdt>=1.13.1->sdv) (3.5.0)\r\n",
      "Requirement already satisfied: filelock in /opt/conda/lib/python3.10/site-packages (from torch>=1.11.0->ctgan>=0.10.2->sdv) (3.15.1)\r\n",
      "Requirement already satisfied: sympy in /opt/conda/lib/python3.10/site-packages (from torch>=1.11.0->ctgan>=0.10.2->sdv) (1.12)\r\n",
      "Requirement already satisfied: networkx in /opt/conda/lib/python3.10/site-packages (from torch>=1.11.0->ctgan>=0.10.2->sdv) (3.3)\r\n",
      "Requirement already satisfied: jinja2 in /opt/conda/lib/python3.10/site-packages (from torch>=1.11.0->ctgan>=0.10.2->sdv) (3.1.4)\r\n",
      "Requirement already satisfied: fsspec in /opt/conda/lib/python3.10/site-packages (from torch>=1.11.0->ctgan>=0.10.2->sdv) (2024.6.1)\r\n",
      "Requirement already satisfied: MarkupSafe>=2.0 in /opt/conda/lib/python3.10/site-packages (from jinja2->torch>=1.11.0->ctgan>=0.10.2->sdv) (2.1.5)\r\n",
      "Requirement already satisfied: pyparsing!=3.0.5,>=2.0.2 in /opt/conda/lib/python3.10/site-packages (from packaging->plotly>=5.10.0->copulas>=0.12.0->sdv) (3.1.2)\r\n",
      "Requirement already satisfied: mpmath>=0.19 in /opt/conda/lib/python3.10/site-packages (from sympy->torch>=1.11.0->ctgan>=0.10.2->sdv) (1.3.0)\r\n",
      "Downloading sdv-1.17.2-py3-none-any.whl (154 kB)\r\n",
      "\u001b[2K   \u001b[90m━━━━━━━━━━━━━━━━━━━━━━━━━━━━━━━━━━━━━━━━\u001b[0m \u001b[32m154.0/154.0 kB\u001b[0m \u001b[31m5.3 MB/s\u001b[0m eta \u001b[36m0:00:00\u001b[0m\r\n",
      "\u001b[?25hDownloading boto3-1.35.68-py3-none-any.whl (139 kB)\r\n",
      "\u001b[2K   \u001b[90m━━━━━━━━━━━━━━━━━━━━━━━━━━━━━━━━━━━━━━━━\u001b[0m \u001b[32m139.2/139.2 kB\u001b[0m \u001b[31m7.7 MB/s\u001b[0m eta \u001b[36m0:00:00\u001b[0m\r\n",
      "\u001b[?25hDownloading botocore-1.35.68-py3-none-any.whl (13.0 MB)\r\n",
      "\u001b[2K   \u001b[90m━━━━━━━━━━━━━━━━━━━━━━━━━━━━━━━━━━━━━━━━\u001b[0m \u001b[32m13.0/13.0 MB\u001b[0m \u001b[31m74.0 MB/s\u001b[0m eta \u001b[36m0:00:00\u001b[0m\r\n",
      "\u001b[?25hDownloading copulas-0.12.0-py3-none-any.whl (52 kB)\r\n",
      "\u001b[2K   \u001b[90m━━━━━━━━━━━━━━━━━━━━━━━━━━━━━━━━━━━━━━━━\u001b[0m \u001b[32m52.4/52.4 kB\u001b[0m \u001b[31m2.4 MB/s\u001b[0m eta \u001b[36m0:00:00\u001b[0m\r\n",
      "\u001b[?25hDownloading ctgan-0.10.2-py3-none-any.whl (23 kB)\r\n",
      "Downloading deepecho-0.6.1-py3-none-any.whl (27 kB)\r\n",
      "Downloading platformdirs-4.3.6-py3-none-any.whl (18 kB)\r\n",
      "Downloading rdt-1.13.1-py3-none-any.whl (66 kB)\r\n",
      "\u001b[2K   \u001b[90m━━━━━━━━━━━━━━━━━━━━━━━━━━━━━━━━━━━━━━━━\u001b[0m \u001b[32m66.8/66.8 kB\u001b[0m \u001b[31m3.3 MB/s\u001b[0m eta \u001b[36m0:00:00\u001b[0m\r\n",
      "\u001b[?25hDownloading sdmetrics-0.17.0-py3-none-any.whl (174 kB)\r\n",
      "\u001b[2K   \u001b[90m━━━━━━━━━━━━━━━━━━━━━━━━━━━━━━━━━━━━━━━━\u001b[0m \u001b[32m174.7/174.7 kB\u001b[0m \u001b[31m9.0 MB/s\u001b[0m eta \u001b[36m0:00:00\u001b[0m\r\n",
      "\u001b[?25hDownloading Faker-33.0.0-py3-none-any.whl (1.9 MB)\r\n",
      "\u001b[2K   \u001b[90m━━━━━━━━━━━━━━━━━━━━━━━━━━━━━━━━━━━━━━━━\u001b[0m \u001b[32m1.9/1.9 MB\u001b[0m \u001b[31m51.1 MB/s\u001b[0m eta \u001b[36m0:00:00\u001b[0m\r\n",
      "\u001b[?25hDownloading s3transfer-0.10.4-py3-none-any.whl (83 kB)\r\n",
      "\u001b[2K   \u001b[90m━━━━━━━━━━━━━━━━━━━━━━━━━━━━━━━━━━━━━━━━\u001b[0m \u001b[32m83.2/83.2 kB\u001b[0m \u001b[31m4.3 MB/s\u001b[0m eta \u001b[36m0:00:00\u001b[0m\r\n",
      "\u001b[?25hInstalling collected packages: platformdirs, Faker, botocore, s3transfer, rdt, deepecho, copulas, sdmetrics, ctgan, boto3, sdv\r\n",
      "  Attempting uninstall: platformdirs\r\n",
      "    Found existing installation: platformdirs 3.11.0\r\n",
      "    Uninstalling platformdirs-3.11.0:\r\n",
      "      Successfully uninstalled platformdirs-3.11.0\r\n",
      "  Attempting uninstall: botocore\r\n",
      "    Found existing installation: botocore 1.35.23\r\n",
      "    Uninstalling botocore-1.35.23:\r\n",
      "      Successfully uninstalled botocore-1.35.23\r\n",
      "  Attempting uninstall: s3transfer\r\n",
      "    Found existing installation: s3transfer 0.6.2\r\n",
      "    Uninstalling s3transfer-0.6.2:\r\n",
      "      Successfully uninstalled s3transfer-0.6.2\r\n",
      "  Attempting uninstall: boto3\r\n",
      "    Found existing installation: boto3 1.26.100\r\n",
      "    Uninstalling boto3-1.26.100:\r\n",
      "      Successfully uninstalled boto3-1.26.100\r\n",
      "\u001b[31mERROR: pip's dependency resolver does not currently take into account all the packages that are installed. This behaviour is the source of the following dependency conflicts.\r\n",
      "aiobotocore 2.15.1 requires botocore<1.35.24,>=1.35.16, but you have botocore 1.35.68 which is incompatible.\r\n",
      "conda 24.9.0 requires packaging>=23.0, but you have packaging 21.3 which is incompatible.\r\n",
      "jupyterlab 4.2.5 requires jupyter-lsp>=2.0.0, but you have jupyter-lsp 1.5.1 which is incompatible.\r\n",
      "jupyterlab-lsp 5.1.0 requires jupyter-lsp>=2.0.0, but you have jupyter-lsp 1.5.1 which is incompatible.\r\n",
      "libpysal 4.9.2 requires packaging>=22, but you have packaging 21.3 which is incompatible.\r\n",
      "libpysal 4.9.2 requires shapely>=2.0.1, but you have shapely 1.8.5.post1 which is incompatible.\r\n",
      "virtualenv 20.21.0 requires platformdirs<4,>=2.4, but you have platformdirs 4.3.6 which is incompatible.\u001b[0m\u001b[31m\r\n",
      "\u001b[0mSuccessfully installed Faker-33.0.0 boto3-1.35.68 botocore-1.35.68 copulas-0.12.0 ctgan-0.10.2 deepecho-0.6.1 platformdirs-4.2.2 rdt-1.13.1 s3transfer-0.10.4 sdmetrics-0.17.0 sdv-1.17.2\r\n",
      "Requirement already satisfied: pandas in /opt/conda/lib/python3.10/site-packages (2.2.3)\r\n",
      "Requirement already satisfied: numpy>=1.22.4 in /opt/conda/lib/python3.10/site-packages (from pandas) (1.26.4)\r\n",
      "Requirement already satisfied: python-dateutil>=2.8.2 in /opt/conda/lib/python3.10/site-packages (from pandas) (2.9.0.post0)\r\n",
      "Requirement already satisfied: pytz>=2020.1 in /opt/conda/lib/python3.10/site-packages (from pandas) (2024.1)\r\n",
      "Requirement already satisfied: tzdata>=2022.7 in /opt/conda/lib/python3.10/site-packages (from pandas) (2024.1)\r\n",
      "Requirement already satisfied: six>=1.5 in /opt/conda/lib/python3.10/site-packages (from python-dateutil>=2.8.2->pandas) (1.16.0)\r\n",
      "Requirement already satisfied: scikit-learn in /opt/conda/lib/python3.10/site-packages (1.2.2)\r\n",
      "Requirement already satisfied: numpy>=1.17.3 in /opt/conda/lib/python3.10/site-packages (from scikit-learn) (1.26.4)\r\n",
      "Requirement already satisfied: scipy>=1.3.2 in /opt/conda/lib/python3.10/site-packages (from scikit-learn) (1.14.1)\r\n",
      "Requirement already satisfied: joblib>=1.1.1 in /opt/conda/lib/python3.10/site-packages (from scikit-learn) (1.4.2)\r\n",
      "Requirement already satisfied: threadpoolctl>=2.0.0 in /opt/conda/lib/python3.10/site-packages (from scikit-learn) (3.5.0)\r\n",
      "\u001b[31mERROR: Could not find a version that satisfies the requirement io (from versions: none)\u001b[0m\u001b[31m\r\n",
      "\u001b[0m\u001b[31mERROR: No matching distribution found for io\u001b[0m\u001b[31m\r\n",
      "\u001b[0mRequirement already satisfied: numpy in /opt/conda/lib/python3.10/site-packages (1.26.4)\r\n"
     ]
    }
   ],
   "source": [
    "!pip install sdv\n",
    "!pip install pandas\n",
    "!pip install scikit-learn\n",
    "!pip install io\n",
    "!pip install numpy"
   ]
  },
  {
   "cell_type": "code",
   "execution_count": 2,
   "id": "bea31f23",
   "metadata": {
    "execution": {
     "iopub.execute_input": "2024-11-23T01:34:34.148287Z",
     "iopub.status.busy": "2024-11-23T01:34:34.147770Z",
     "iopub.status.idle": "2024-11-23T01:34:42.450793Z",
     "shell.execute_reply": "2024-11-23T01:34:42.449708Z"
    },
    "papermill": {
     "duration": 8.316764,
     "end_time": "2024-11-23T01:34:42.454356",
     "exception": false,
     "start_time": "2024-11-23T01:34:34.137592",
     "status": "completed"
    },
    "tags": []
   },
   "outputs": [],
   "source": [
    "import kagglehub\n",
    "from sdv.single_table import CTGANSynthesizer\n",
    "import pandas as pd\n",
    "import numpy as np\n",
    "from sklearn import preprocessing \n",
    "from io import StringIO\n",
    "from collections import defaultdict\n",
    "\n",
    "from sdv.metadata import Metadata\n",
    "from sdv.evaluation.single_table import evaluate_quality\n"
   ]
  },
  {
   "cell_type": "code",
   "execution_count": 3,
   "id": "b25a3747",
   "metadata": {
    "execution": {
     "iopub.execute_input": "2024-11-23T01:34:42.480377Z",
     "iopub.status.busy": "2024-11-23T01:34:42.479655Z",
     "iopub.status.idle": "2024-11-23T01:34:42.485079Z",
     "shell.execute_reply": "2024-11-23T01:34:42.484095Z"
    },
    "papermill": {
     "duration": 0.017916,
     "end_time": "2024-11-23T01:34:42.487832",
     "exception": false,
     "start_time": "2024-11-23T01:34:42.469916",
     "status": "completed"
    },
    "tags": []
   },
   "outputs": [],
   "source": [
    "# playground_series_s4e11_path = kagglehub.competition_download('playground-series-s4e11')"
   ]
  },
  {
   "cell_type": "code",
   "execution_count": 4,
   "id": "c31860f7",
   "metadata": {
    "execution": {
     "iopub.execute_input": "2024-11-23T01:34:42.514747Z",
     "iopub.status.busy": "2024-11-23T01:34:42.514362Z",
     "iopub.status.idle": "2024-11-23T01:34:43.083300Z",
     "shell.execute_reply": "2024-11-23T01:34:43.081940Z"
    },
    "papermill": {
     "duration": 0.581098,
     "end_time": "2024-11-23T01:34:43.085991",
     "exception": false,
     "start_time": "2024-11-23T01:34:42.504893",
     "status": "completed"
    },
    "tags": []
   },
   "outputs": [],
   "source": [
    "path='/kaggle/input/playground-series-s4e11/train.csv'\n",
    "train = pd.read_csv(path)\n"
   ]
  },
  {
   "cell_type": "code",
   "execution_count": 5,
   "id": "26ddfcad",
   "metadata": {
    "execution": {
     "iopub.execute_input": "2024-11-23T01:34:43.104350Z",
     "iopub.status.busy": "2024-11-23T01:34:43.103873Z",
     "iopub.status.idle": "2024-11-23T01:34:43.160573Z",
     "shell.execute_reply": "2024-11-23T01:34:43.159204Z"
    },
    "papermill": {
     "duration": 0.069968,
     "end_time": "2024-11-23T01:34:43.164319",
     "exception": false,
     "start_time": "2024-11-23T01:34:43.094351",
     "status": "completed"
    },
    "tags": []
   },
   "outputs": [],
   "source": [
    "student_train = train[train[\"Working Professional or Student\"]==\"Student\"]\n",
    "student_train.drop(['id','Working Professional or Student','Profession','Work Pressure','Job Satisfaction'],axis=1, inplace=True)\n",
    "student_train.dropna(axis=1, how='all', inplace=True)"
   ]
  },
  {
   "cell_type": "code",
   "execution_count": 6,
   "id": "8d94b743",
   "metadata": {
    "execution": {
     "iopub.execute_input": "2024-11-23T01:34:43.182949Z",
     "iopub.status.busy": "2024-11-23T01:34:43.182103Z",
     "iopub.status.idle": "2024-11-23T01:34:43.190857Z",
     "shell.execute_reply": "2024-11-23T01:34:43.189765Z"
    },
    "papermill": {
     "duration": 0.021028,
     "end_time": "2024-11-23T01:34:43.193776",
     "exception": false,
     "start_time": "2024-11-23T01:34:43.172748",
     "status": "completed"
    },
    "tags": []
   },
   "outputs": [],
   "source": [
    "string_columns = student_train.select_dtypes(include=['object','string']).columns\n",
    "numeric_student = student_train[student_train.columns.difference(string_columns)]\n"
   ]
  },
  {
   "cell_type": "code",
   "execution_count": 7,
   "id": "bab75aab",
   "metadata": {
    "execution": {
     "iopub.execute_input": "2024-11-23T01:34:43.211989Z",
     "iopub.status.busy": "2024-11-23T01:34:43.211538Z",
     "iopub.status.idle": "2024-11-23T01:34:43.219927Z",
     "shell.execute_reply": "2024-11-23T01:34:43.218932Z"
    },
    "papermill": {
     "duration": 0.02019,
     "end_time": "2024-11-23T01:34:43.222196",
     "exception": false,
     "start_time": "2024-11-23T01:34:43.202006",
     "status": "completed"
    },
    "tags": []
   },
   "outputs": [],
   "source": [
    "string_student=student_train[string_columns]"
   ]
  },
  {
   "cell_type": "code",
   "execution_count": 8,
   "id": "11e75203",
   "metadata": {
    "execution": {
     "iopub.execute_input": "2024-11-23T01:34:43.240044Z",
     "iopub.status.busy": "2024-11-23T01:34:43.239673Z",
     "iopub.status.idle": "2024-11-23T01:34:43.291402Z",
     "shell.execute_reply": "2024-11-23T01:34:43.290361Z"
    },
    "papermill": {
     "duration": 0.063696,
     "end_time": "2024-11-23T01:34:43.293888",
     "exception": false,
     "start_time": "2024-11-23T01:34:43.230192",
     "status": "completed"
    },
    "tags": []
   },
   "outputs": [],
   "source": [
    "\n",
    "d = defaultdict(preprocessing.LabelEncoder)\n",
    "string_student = string_student.apply(lambda x: d[x.name].fit_transform(x))"
   ]
  },
  {
   "cell_type": "code",
   "execution_count": 9,
   "id": "461fc5a5",
   "metadata": {
    "execution": {
     "iopub.execute_input": "2024-11-23T01:34:43.312079Z",
     "iopub.status.busy": "2024-11-23T01:34:43.311714Z",
     "iopub.status.idle": "2024-11-23T01:34:43.322246Z",
     "shell.execute_reply": "2024-11-23T01:34:43.321008Z"
    },
    "papermill": {
     "duration": 0.022288,
     "end_time": "2024-11-23T01:34:43.324592",
     "exception": false,
     "start_time": "2024-11-23T01:34:43.302304",
     "status": "completed"
    },
    "tags": []
   },
   "outputs": [],
   "source": [
    "numeric_student = numeric_student.join(string_student)"
   ]
  },
  {
   "cell_type": "code",
   "execution_count": 10,
   "id": "d41ffd5c",
   "metadata": {
    "execution": {
     "iopub.execute_input": "2024-11-23T01:34:43.342630Z",
     "iopub.status.busy": "2024-11-23T01:34:43.342165Z",
     "iopub.status.idle": "2024-11-23T01:34:43.351924Z",
     "shell.execute_reply": "2024-11-23T01:34:43.350695Z"
    },
    "papermill": {
     "duration": 0.021402,
     "end_time": "2024-11-23T01:34:43.354011",
     "exception": false,
     "start_time": "2024-11-23T01:34:43.332609",
     "status": "completed"
    },
    "tags": []
   },
   "outputs": [
    {
     "data": {
      "text/plain": [
       "Index([], dtype='object')"
      ]
     },
     "execution_count": 10,
     "metadata": {},
     "output_type": "execute_result"
    }
   ],
   "source": [
    "numeric_student.select_dtypes(include=['object']).columns"
   ]
  },
  {
   "cell_type": "code",
   "execution_count": 11,
   "id": "fbe8322a",
   "metadata": {
    "execution": {
     "iopub.execute_input": "2024-11-23T01:34:43.371620Z",
     "iopub.status.busy": "2024-11-23T01:34:43.371172Z",
     "iopub.status.idle": "2024-11-23T01:34:43.409704Z",
     "shell.execute_reply": "2024-11-23T01:34:43.408586Z"
    },
    "papermill": {
     "duration": 0.050763,
     "end_time": "2024-11-23T01:34:43.412583",
     "exception": false,
     "start_time": "2024-11-23T01:34:43.361820",
     "status": "completed"
    },
    "tags": []
   },
   "outputs": [],
   "source": [
    "\n",
    "original_means = numeric_student.mean()\n",
    "original_stds = numeric_student.std()\n",
    "original_corr = numeric_student.corr()"
   ]
  },
  {
   "cell_type": "code",
   "execution_count": 12,
   "id": "c88b85a0",
   "metadata": {
    "execution": {
     "iopub.execute_input": "2024-11-23T01:34:43.430861Z",
     "iopub.status.busy": "2024-11-23T01:34:43.430469Z",
     "iopub.status.idle": "2024-11-23T01:34:43.435677Z",
     "shell.execute_reply": "2024-11-23T01:34:43.434535Z"
    },
    "papermill": {
     "duration": 0.017208,
     "end_time": "2024-11-23T01:34:43.438126",
     "exception": false,
     "start_time": "2024-11-23T01:34:43.420918",
     "status": "completed"
    },
    "tags": []
   },
   "outputs": [],
   "source": [
    "# Define metadata for your dataset\n",
    "metadata = Metadata()\n",
    "# md = metadata.detect_from_dataframe(student_train).save_to_json('./metadata.json')"
   ]
  },
  {
   "cell_type": "code",
   "execution_count": 13,
   "id": "73b35c07",
   "metadata": {
    "execution": {
     "iopub.execute_input": "2024-11-23T01:34:43.456923Z",
     "iopub.status.busy": "2024-11-23T01:34:43.456024Z",
     "iopub.status.idle": "2024-11-23T01:34:43.461593Z",
     "shell.execute_reply": "2024-11-23T01:34:43.460418Z"
    },
    "papermill": {
     "duration": 0.017127,
     "end_time": "2024-11-23T01:34:43.463639",
     "exception": false,
     "start_time": "2024-11-23T01:34:43.446512",
     "status": "completed"
    },
    "tags": []
   },
   "outputs": [],
   "source": [
    "metadata_path='/kaggle/input/student-metadata/metadata.json'"
   ]
  },
  {
   "cell_type": "code",
   "execution_count": 14,
   "id": "b4e78f72",
   "metadata": {
    "execution": {
     "iopub.execute_input": "2024-11-23T01:34:43.481220Z",
     "iopub.status.busy": "2024-11-23T01:34:43.480793Z",
     "iopub.status.idle": "2024-11-23T01:34:43.489679Z",
     "shell.execute_reply": "2024-11-23T01:34:43.488575Z"
    },
    "papermill": {
     "duration": 0.020432,
     "end_time": "2024-11-23T01:34:43.491982",
     "exception": false,
     "start_time": "2024-11-23T01:34:43.471550",
     "status": "completed"
    },
    "tags": []
   },
   "outputs": [],
   "source": [
    "md = metadata.load_from_json(metadata_path)\n"
   ]
  },
  {
   "cell_type": "code",
   "execution_count": 15,
   "id": "110352bd",
   "metadata": {
    "execution": {
     "iopub.execute_input": "2024-11-23T01:34:43.509904Z",
     "iopub.status.busy": "2024-11-23T01:34:43.509448Z",
     "iopub.status.idle": "2024-11-23T01:34:46.624474Z",
     "shell.execute_reply": "2024-11-23T01:34:46.623093Z"
    },
    "papermill": {
     "duration": 3.126812,
     "end_time": "2024-11-23T01:34:46.627190",
     "exception": false,
     "start_time": "2024-11-23T01:34:43.500378",
     "status": "completed"
    },
    "tags": []
   },
   "outputs": [],
   "source": [
    "synthesizer = CTGANSynthesizer(\n",
    "    md,\n",
    "    epochs=500,\n",
    "    generator_dim=(256, 256, 256),\n",
    "    log_frequency=True)\n",
    "\n"
   ]
  },
  {
   "cell_type": "code",
   "execution_count": 16,
   "id": "6808af82",
   "metadata": {
    "execution": {
     "iopub.execute_input": "2024-11-23T01:34:46.645792Z",
     "iopub.status.busy": "2024-11-23T01:34:46.645362Z",
     "iopub.status.idle": "2024-11-23T01:34:46.739480Z",
     "shell.execute_reply": "2024-11-23T01:34:46.738238Z"
    },
    "papermill": {
     "duration": 0.106384,
     "end_time": "2024-11-23T01:34:46.742025",
     "exception": false,
     "start_time": "2024-11-23T01:34:46.635641",
     "status": "completed"
    },
    "tags": []
   },
   "outputs": [],
   "source": [
    "synthesizer.auto_assign_transformers(numeric_student)\n"
   ]
  },
  {
   "cell_type": "code",
   "execution_count": 17,
   "id": "37b603f6",
   "metadata": {
    "execution": {
     "iopub.execute_input": "2024-11-23T01:34:46.760011Z",
     "iopub.status.busy": "2024-11-23T01:34:46.759530Z",
     "iopub.status.idle": "2024-11-23T05:09:34.639579Z",
     "shell.execute_reply": "2024-11-23T05:09:34.637854Z"
    },
    "papermill": {
     "duration": 12887.893078,
     "end_time": "2024-11-23T05:09:34.642974",
     "exception": false,
     "start_time": "2024-11-23T01:34:46.749896",
     "status": "completed"
    },
    "tags": []
   },
   "outputs": [],
   "source": [
    "synthesizer.fit(numeric_student)"
   ]
  },
  {
   "cell_type": "code",
   "execution_count": 18,
   "id": "459b16cc",
   "metadata": {
    "execution": {
     "iopub.execute_input": "2024-11-23T05:09:34.663357Z",
     "iopub.status.busy": "2024-11-23T05:09:34.662377Z",
     "iopub.status.idle": "2024-11-23T05:09:34.716242Z",
     "shell.execute_reply": "2024-11-23T05:09:34.715011Z"
    },
    "papermill": {
     "duration": 0.066044,
     "end_time": "2024-11-23T05:09:34.718727",
     "exception": false,
     "start_time": "2024-11-23T05:09:34.652683",
     "status": "completed"
    },
    "tags": []
   },
   "outputs": [],
   "source": [
    "synthesizer.save(\n",
    "    filepath='/kaggle/working/my_synthesizer.pkl'\n",
    ")"
   ]
  },
  {
   "cell_type": "code",
   "execution_count": 19,
   "id": "bf71dafa",
   "metadata": {
    "execution": {
     "iopub.execute_input": "2024-11-23T05:09:34.736674Z",
     "iopub.status.busy": "2024-11-23T05:09:34.736228Z",
     "iopub.status.idle": "2024-11-23T05:09:38.868736Z",
     "shell.execute_reply": "2024-11-23T05:09:38.867433Z"
    },
    "papermill": {
     "duration": 4.145159,
     "end_time": "2024-11-23T05:09:38.871942",
     "exception": false,
     "start_time": "2024-11-23T05:09:34.726783",
     "status": "completed"
    },
    "tags": []
   },
   "outputs": [],
   "source": [
    "synthetic_data = synthesizer.sample(len(numeric_student))\n"
   ]
  },
  {
   "cell_type": "code",
   "execution_count": 20,
   "id": "583cde8c",
   "metadata": {
    "execution": {
     "iopub.execute_input": "2024-11-23T05:09:38.890733Z",
     "iopub.status.busy": "2024-11-23T05:09:38.890268Z",
     "iopub.status.idle": "2024-11-23T05:09:39.102518Z",
     "shell.execute_reply": "2024-11-23T05:09:39.101265Z"
    },
    "papermill": {
     "duration": 0.22472,
     "end_time": "2024-11-23T05:09:39.105121",
     "exception": false,
     "start_time": "2024-11-23T05:09:38.880401",
     "status": "completed"
    },
    "tags": []
   },
   "outputs": [],
   "source": [
    "synthetic_data.to_csv('/kaggle/working/numeric_synethetic_data.csv')"
   ]
  },
  {
   "cell_type": "code",
   "execution_count": 21,
   "id": "967ae531",
   "metadata": {
    "execution": {
     "iopub.execute_input": "2024-11-23T05:09:39.123428Z",
     "iopub.status.busy": "2024-11-23T05:09:39.122968Z",
     "iopub.status.idle": "2024-11-23T05:09:40.126933Z",
     "shell.execute_reply": "2024-11-23T05:09:40.125592Z"
    },
    "papermill": {
     "duration": 1.016304,
     "end_time": "2024-11-23T05:09:40.129605",
     "exception": false,
     "start_time": "2024-11-23T05:09:39.113301",
     "status": "completed"
    },
    "tags": []
   },
   "outputs": [
    {
     "name": "stdout",
     "output_type": "stream",
     "text": [
      "Generating report ...\n",
      "\n",
      "(1/2) Evaluating Column Shapes: |██████████| 15/15 [00:00<00:00, 102.17it/s]|\n",
      "Column Shapes Score: 83.7%\n",
      "\n",
      "(2/2) Evaluating Column Pair Trends: |██████████| 105/105 [00:00<00:00, 127.14it/s]|\n",
      "Column Pair Trends Score: 72.52%\n",
      "\n",
      "Overall Score (Average): 78.11%\n",
      "\n",
      "Quality Score: <sdmetrics.reports.single_table.quality_report.QualityReport object at 0x7eeb6825ebf0>\n"
     ]
    }
   ],
   "source": [
    "quality_score = evaluate_quality(synthetic_data, numeric_student,md)\n",
    "print(f\"Quality Score: {quality_score}\")"
   ]
  },
  {
   "cell_type": "code",
   "execution_count": 22,
   "id": "8c178234",
   "metadata": {
    "execution": {
     "iopub.execute_input": "2024-11-23T05:09:40.150818Z",
     "iopub.status.busy": "2024-11-23T05:09:40.150366Z",
     "iopub.status.idle": "2024-11-23T05:09:40.170393Z",
     "shell.execute_reply": "2024-11-23T05:09:40.169033Z"
    },
    "papermill": {
     "duration": 0.033483,
     "end_time": "2024-11-23T05:09:40.173022",
     "exception": false,
     "start_time": "2024-11-23T05:09:40.139539",
     "status": "completed"
    },
    "tags": []
   },
   "outputs": [
    {
     "data": {
      "text/html": [
       "<div>\n",
       "<style scoped>\n",
       "    .dataframe tbody tr th:only-of-type {\n",
       "        vertical-align: middle;\n",
       "    }\n",
       "\n",
       "    .dataframe tbody tr th {\n",
       "        vertical-align: top;\n",
       "    }\n",
       "\n",
       "    .dataframe thead th {\n",
       "        text-align: right;\n",
       "    }\n",
       "</style>\n",
       "<table border=\"1\" class=\"dataframe\">\n",
       "  <thead>\n",
       "    <tr style=\"text-align: right;\">\n",
       "      <th></th>\n",
       "      <th>Epoch</th>\n",
       "      <th>Generator Loss</th>\n",
       "      <th>Discriminator Loss</th>\n",
       "    </tr>\n",
       "  </thead>\n",
       "  <tbody>\n",
       "    <tr>\n",
       "      <th>0</th>\n",
       "      <td>0</td>\n",
       "      <td>1.579942</td>\n",
       "      <td>-0.043535</td>\n",
       "    </tr>\n",
       "    <tr>\n",
       "      <th>1</th>\n",
       "      <td>1</td>\n",
       "      <td>1.129351</td>\n",
       "      <td>-0.006719</td>\n",
       "    </tr>\n",
       "    <tr>\n",
       "      <th>2</th>\n",
       "      <td>2</td>\n",
       "      <td>0.841202</td>\n",
       "      <td>-0.070814</td>\n",
       "    </tr>\n",
       "    <tr>\n",
       "      <th>3</th>\n",
       "      <td>3</td>\n",
       "      <td>0.397571</td>\n",
       "      <td>-0.065605</td>\n",
       "    </tr>\n",
       "    <tr>\n",
       "      <th>4</th>\n",
       "      <td>4</td>\n",
       "      <td>0.142792</td>\n",
       "      <td>-0.128091</td>\n",
       "    </tr>\n",
       "    <tr>\n",
       "      <th>...</th>\n",
       "      <td>...</td>\n",
       "      <td>...</td>\n",
       "      <td>...</td>\n",
       "    </tr>\n",
       "    <tr>\n",
       "      <th>495</th>\n",
       "      <td>495</td>\n",
       "      <td>-0.253239</td>\n",
       "      <td>0.428573</td>\n",
       "    </tr>\n",
       "    <tr>\n",
       "      <th>496</th>\n",
       "      <td>496</td>\n",
       "      <td>-0.741080</td>\n",
       "      <td>0.219617</td>\n",
       "    </tr>\n",
       "    <tr>\n",
       "      <th>497</th>\n",
       "      <td>497</td>\n",
       "      <td>-0.000300</td>\n",
       "      <td>-0.483392</td>\n",
       "    </tr>\n",
       "    <tr>\n",
       "      <th>498</th>\n",
       "      <td>498</td>\n",
       "      <td>0.160666</td>\n",
       "      <td>-0.233624</td>\n",
       "    </tr>\n",
       "    <tr>\n",
       "      <th>499</th>\n",
       "      <td>499</td>\n",
       "      <td>0.054146</td>\n",
       "      <td>0.023170</td>\n",
       "    </tr>\n",
       "  </tbody>\n",
       "</table>\n",
       "<p>500 rows × 3 columns</p>\n",
       "</div>"
      ],
      "text/plain": [
       "     Epoch  Generator Loss  Discriminator Loss\n",
       "0        0        1.579942           -0.043535\n",
       "1        1        1.129351           -0.006719\n",
       "2        2        0.841202           -0.070814\n",
       "3        3        0.397571           -0.065605\n",
       "4        4        0.142792           -0.128091\n",
       "..     ...             ...                 ...\n",
       "495    495       -0.253239            0.428573\n",
       "496    496       -0.741080            0.219617\n",
       "497    497       -0.000300           -0.483392\n",
       "498    498        0.160666           -0.233624\n",
       "499    499        0.054146            0.023170\n",
       "\n",
       "[500 rows x 3 columns]"
      ]
     },
     "execution_count": 22,
     "metadata": {},
     "output_type": "execute_result"
    }
   ],
   "source": [
    "synthesizer.get_loss_values()\n"
   ]
  },
  {
   "cell_type": "code",
   "execution_count": 23,
   "id": "8d932d81",
   "metadata": {
    "execution": {
     "iopub.execute_input": "2024-11-23T05:09:40.196016Z",
     "iopub.status.busy": "2024-11-23T05:09:40.194814Z",
     "iopub.status.idle": "2024-11-23T05:09:41.970490Z",
     "shell.execute_reply": "2024-11-23T05:09:41.969125Z"
    },
    "papermill": {
     "duration": 1.788891,
     "end_time": "2024-11-23T05:09:41.973168",
     "exception": false,
     "start_time": "2024-11-23T05:09:40.184277",
     "status": "completed"
    },
    "tags": []
   },
   "outputs": [
    {
     "data": {
      "text/html": [
       "        <script type=\"text/javascript\">\n",
       "        window.PlotlyConfig = {MathJaxConfig: 'local'};\n",
       "        if (window.MathJax && window.MathJax.Hub && window.MathJax.Hub.Config) {window.MathJax.Hub.Config({SVG: {font: \"STIX-Web\"}});}\n",
       "        if (typeof require !== 'undefined') {\n",
       "        require.undef(\"plotly\");\n",
       "        requirejs.config({\n",
       "            paths: {\n",
       "                'plotly': ['https://cdn.plot.ly/plotly-2.32.0.min']\n",
       "            }\n",
       "        });\n",
       "        require(['plotly'], function(Plotly) {\n",
       "            window._Plotly = Plotly;\n",
       "        });\n",
       "        }\n",
       "        </script>\n",
       "        "
      ]
     },
     "metadata": {},
     "output_type": "display_data"
    },
    {
     "data": {
      "text/html": [
       "<div>                            <div id=\"0ad24147-7e30-41d0-b305-bb98d4c413d6\" class=\"plotly-graph-div\" style=\"height:525px; width:100%;\"></div>            <script type=\"text/javascript\">                require([\"plotly\"], function(Plotly) {                    window.PLOTLYENV=window.PLOTLYENV || {};                                    if (document.getElementById(\"0ad24147-7e30-41d0-b305-bb98d4c413d6\")) {                    Plotly.newPlot(                        \"0ad24147-7e30-41d0-b305-bb98d4c413d6\",                        [{\"hovertemplate\":\"variable=Generator Loss\\u003cbr\\u003eEpoch=%{x}\\u003cbr\\u003evalue=%{y}\\u003cextra\\u003e\\u003c\\u002fextra\\u003e\",\"legendgroup\":\"Generator Loss\",\"line\":{\"color\":\"#000036\",\"dash\":\"solid\"},\"marker\":{\"symbol\":\"circle\"},\"mode\":\"lines\",\"name\":\"Generator Loss\",\"orientation\":\"v\",\"showlegend\":true,\"x\":[0,1,2,3,4,5,6,7,8,9,10,11,12,13,14,15,16,17,18,19,20,21,22,23,24,25,26,27,28,29,30,31,32,33,34,35,36,37,38,39,40,41,42,43,44,45,46,47,48,49,50,51,52,53,54,55,56,57,58,59,60,61,62,63,64,65,66,67,68,69,70,71,72,73,74,75,76,77,78,79,80,81,82,83,84,85,86,87,88,89,90,91,92,93,94,95,96,97,98,99,100,101,102,103,104,105,106,107,108,109,110,111,112,113,114,115,116,117,118,119,120,121,122,123,124,125,126,127,128,129,130,131,132,133,134,135,136,137,138,139,140,141,142,143,144,145,146,147,148,149,150,151,152,153,154,155,156,157,158,159,160,161,162,163,164,165,166,167,168,169,170,171,172,173,174,175,176,177,178,179,180,181,182,183,184,185,186,187,188,189,190,191,192,193,194,195,196,197,198,199,200,201,202,203,204,205,206,207,208,209,210,211,212,213,214,215,216,217,218,219,220,221,222,223,224,225,226,227,228,229,230,231,232,233,234,235,236,237,238,239,240,241,242,243,244,245,246,247,248,249,250,251,252,253,254,255,256,257,258,259,260,261,262,263,264,265,266,267,268,269,270,271,272,273,274,275,276,277,278,279,280,281,282,283,284,285,286,287,288,289,290,291,292,293,294,295,296,297,298,299,300,301,302,303,304,305,306,307,308,309,310,311,312,313,314,315,316,317,318,319,320,321,322,323,324,325,326,327,328,329,330,331,332,333,334,335,336,337,338,339,340,341,342,343,344,345,346,347,348,349,350,351,352,353,354,355,356,357,358,359,360,361,362,363,364,365,366,367,368,369,370,371,372,373,374,375,376,377,378,379,380,381,382,383,384,385,386,387,388,389,390,391,392,393,394,395,396,397,398,399,400,401,402,403,404,405,406,407,408,409,410,411,412,413,414,415,416,417,418,419,420,421,422,423,424,425,426,427,428,429,430,431,432,433,434,435,436,437,438,439,440,441,442,443,444,445,446,447,448,449,450,451,452,453,454,455,456,457,458,459,460,461,462,463,464,465,466,467,468,469,470,471,472,473,474,475,476,477,478,479,480,481,482,483,484,485,486,487,488,489,490,491,492,493,494,495,496,497,498,499],\"xaxis\":\"x\",\"y\":[1.5799424648284912,1.1293509006500244,0.8412015438079834,0.397571325302124,0.14279186725616455,-0.1454458236694336,-0.5743288993835449,-0.6934804320335388,-0.8838388323783875,-0.8631850481033325,-0.8752849102020264,-1.3219096660614014,-1.1407275199890137,-1.5136089324951172,-1.444945216178894,-1.605721116065979,-1.7948253154754639,-1.7726294994354248,-1.908888816833496,-1.630172610282898,-1.8127930164337158,-1.8979548215866089,-2.048264265060425,-2.010399103164673,-2.077221393585205,-2.1198437213897705,-2.032742500305176,-2.191990613937378,-2.0767951011657715,-2.1284101009368896,-2.075404644012451,-2.1065266132354736,-2.3069467544555664,-2.128251314163208,-2.5226616859436035,-2.3236560821533203,-2.1965243816375732,-2.3483941555023193,-2.2684693336486816,-2.279388427734375,-2.4041271209716797,-2.42338228225708,-2.273597478866577,-2.2706353664398193,-2.2722294330596924,-2.2999887466430664,-2.3845911026000977,-2.2939889430999756,-2.4275028705596924,-2.389218807220459,-2.2031147480010986,-2.298448324203491,-2.32173228263855,-2.5851147174835205,-2.4751670360565186,-2.370558023452759,-2.4058868885040283,-2.4726836681365967,-2.177499771118164,-2.179370403289795,-2.337218999862671,-2.396749973297119,-2.4250800609588623,-2.424036979675293,-2.3438334465026855,-2.243514060974121,-2.210265636444092,-2.2659573554992676,-2.267108201980591,-2.204223394393921,-2.1466562747955322,-2.272463083267212,-2.128253936767578,-2.135343074798584,-2.1878762245178223,-2.1245367527008057,-2.2044224739074707,-1.9449042081832886,-2.1168458461761475,-2.187685489654541,-2.0514659881591797,-2.1088624000549316,-2.0232818126678467,-1.9739117622375488,-2.151481866836548,-2.066666603088379,-2.201849937438965,-2.118117094039917,-2.024979829788208,-2.027879476547241,-2.0367720127105713,-2.0278279781341553,-2.055697202682495,-2.150693416595459,-2.231776714324951,-2.202756643295288,-2.078092098236084,-2.1776678562164307,-2.1559536457061768,-2.1845521926879883,-2.094890832901001,-2.0966720581054688,-2.067614793777466,-2.171069383621216,-2.1710832118988037,-2.0531105995178223,-2.1699280738830566,-2.053554058074951,-1.9052925109863281,-1.855881929397583,-1.9520080089569092,-1.8726485967636108,-1.6205967664718628,-1.9210714101791382,-1.9485063552856445,-1.9991111755371094,-1.8767493963241577,-1.8808633089065552,-1.9660617113113403,-1.8563272953033447,-1.8144588470458984,-1.7789278030395508,-1.7875550985336304,-1.579633116722107,-1.732580304145813,-1.378100037574768,-1.7811212539672852,-1.9867713451385498,-1.8330711126327515,-1.7178422212600708,-1.7898695468902588,-1.7704604864120483,-1.6292134523391724,-1.7679997682571411,-1.5375086069107056,-1.5029116868972778,-1.427943229675293,-1.371529221534729,-1.6683919429779053,-1.5921014547348022,-1.6551990509033203,-1.6738452911376953,-1.558701515197754,-1.5373344421386719,-1.5745316743850708,-1.6892528533935547,-1.503472089767456,-1.6157233715057373,-1.3104733228683472,-1.3214383125305176,-1.3365561962127686,-1.4361722469329834,-1.5898857116699219,-1.3887380361557007,-1.376381754875183,-1.5989608764648438,-1.3601477146148682,-1.464828372001648,-1.3464980125427246,-1.3174821138381958,-1.4593939781188965,-1.1765540838241577,-1.2511297464370728,-1.0954757928848267,-1.199978232383728,-1.0777889490127563,-1.133127212524414,-1.0411741733551025,-1.038944125175476,-0.9021602869033813,-1.0343197584152222,-1.1226470470428467,-1.0726730823516846,-1.0007423162460327,-1.0680822134017944,-0.9116645455360413,-0.9660825729370117,-1.1138150691986084,-1.2980358600616455,-1.2346206903457642,-1.2851182222366333,-1.1596932411193848,-1.0898845195770264,-1.183624029159546,-1.113623857498169,-1.1908003091812134,-1.1643956899642944,-1.0826183557510376,-1.0685347318649292,-1.1698509454727173,-1.155808925628662,-1.1514670848846436,-1.0067546367645264,-1.031508207321167,-1.1940339803695679,-0.8034219145774841,-1.1632744073867798,-0.8935118913650513,-1.2264020442962646,-1.057242512702942,-0.6262542605400085,-1.080410122871399,-0.9358229637145996,-1.1703921556472778,-0.8598394393920898,-0.7650813460350037,-0.856031596660614,-0.7007958889007568,-0.8188324570655823,-0.7307151556015015,-0.7133939266204834,-0.8284338712692261,-0.8251888751983643,-0.7726619243621826,-0.569356381893158,-0.6966833472251892,-0.819172203540802,-0.7922053337097168,-0.7189005613327026,-0.8998526334762573,-0.6053419709205627,-0.7304926514625549,-0.8092077970504761,-0.7523189187049866,-0.7970495820045471,-0.7969388961791992,-0.6811143755912781,-0.7725968956947327,-0.5318264365196228,-0.5235116481781006,-0.3842182457447052,-0.5924327373504639,-0.7009441256523132,-0.614895224571228,-0.5767704248428345,-0.5685957074165344,-0.40612125396728516,-0.5430793166160583,-0.5301867127418518,-0.3264675736427307,-0.620327889919281,-0.8393899202346802,-0.688234806060791,-0.4643864035606384,-0.6578866243362427,-0.4740372598171234,-0.246310755610466,-0.3809983432292938,-0.48970916867256165,-0.33828040957450867,-0.6546624898910522,-0.7819557785987854,-0.5391032099723816,-0.536522388458252,-0.702237606048584,-0.5047556161880493,-0.593458354473114,-0.48966604471206665,-0.815775990486145,-0.9416652917861938,-0.41500675678253174,-0.4949113726615906,-0.4872208535671234,-0.14764145016670227,-0.5639170408248901,-0.5743180513381958,-0.2635818123817444,-0.3867206871509552,-0.12493287026882172,-0.806521475315094,-0.7492549419403076,-0.676898181438446,-0.527306079864502,-0.5034537315368652,-0.44071245193481445,-0.5476683378219604,-0.045133739709854126,-0.44911640882492065,-0.12155847996473312,-0.5655487775802612,-0.3454649746417999,-0.24717207252979279,-0.8787326812744141,-0.3545730710029602,-0.23569190502166748,-0.3751218020915985,-0.33930763602256775,-0.4963994324207306,-0.630041241645813,-0.04134008660912514,-0.46176162362098694,0.027523744851350784,0.01286317128688097,-0.4219970107078552,-0.42385637760162354,-0.4847361743450165,-0.36421239376068115,-0.2177422046661377,-0.5895228385925293,-0.41317036747932434,-0.3246672451496124,-0.48579421639442444,-0.40198731422424316,-0.3135015666484833,-0.32280778884887695,-0.09192924201488495,-0.3561517596244812,-0.39847761392593384,-0.2721844017505646,-0.35204020142555237,-0.2914610803127289,-0.40618595480918884,-0.5322702527046204,-0.6178690791130066,-0.4584883451461792,-1.093937635421753,-0.5121007561683655,-0.24289114773273468,-0.19881290197372437,-0.4773328900337219,-0.02069477178156376,-0.35105371475219727,0.395309716463089,-0.22644686698913574,-0.27746468782424927,-0.31924208998680115,0.06889615952968597,-0.4857088029384613,-0.39196541905403137,-0.6048148274421692,-0.4103407561779022,-0.7574974894523621,-0.4779878854751587,-0.41727128624916077,-0.5853602290153503,-0.43616554141044617,-0.31066006422042847,-0.07210657000541687,-0.20788541436195374,-0.2893829643726349,-0.6055552959442139,-0.22261551022529602,-0.2283719927072525,-0.5780701041221619,0.23390547931194305,-0.3473204970359802,0.05583301931619644,-0.6481813788414001,-0.05231763795018196,-0.11976514756679535,-0.17053575813770294,-0.18188434839248657,-0.1551245003938675,-0.5649398565292358,-0.27074116468429565,-0.4456837475299835,-0.7203468680381775,-0.0669950321316719,-0.5610935091972351,-0.18576644361019135,-0.12622906267642975,0.2566722631454468,0.28896424174308777,-0.21542026102542877,-0.20985382795333862,-0.8340012431144714,-0.3951965570449829,-0.09051787853240967,-0.18787331879138947,-0.00006428034976124763,-0.21896205842494965,-0.41262903809547424,0.03312009572982788,0.0503808856010437,-0.36181971430778503,-0.3904975652694702,-0.0962502658367157,-0.2490738183259964,-0.0681542381644249,0.27188053727149963,0.10321067273616791,-0.3139621615409851,-0.021255992352962494,-0.12113995105028152,-0.08287254720926285,-0.2233399897813797,-0.7119404077529907,-0.20737849175930023,-0.1790679544210434,0.06375599652528763,-0.2797965407371521,0.20153801143169403,-0.24992114305496216,-0.37465253472328186,0.08857165277004242,-0.21336966753005981,0.10532308369874954,-0.2859515845775604,-0.07825694978237152,0.19497758150100708,-0.24496117234230042,-0.3906650245189667,0.08158022165298462,-0.42114073038101196,-0.27653348445892334,0.07349345833063126,-0.933571457862854,-0.33027276396751404,-0.2187734842300415,-0.16170400381088257,-0.6661442518234253,-0.35114461183547974,-0.04907698556780815,-0.6854583024978638,-0.5617400407791138,-0.30255022644996643,-0.19174836575984955,-0.021272175014019012,-0.37267640233039856,-0.43798360228538513,-0.1255672127008438,-0.13800585269927979,-0.6400529742240906,-0.6328368186950684,0.044008269906044006,-0.36575278639793396,0.05512406304478645,-0.7043566703796387,-0.1844298541545868,-0.2313157021999359,-0.5561597943305969,-0.37175142765045166,0.29578980803489685,-0.4339393973350525,-0.1009237989783287,-0.7556376457214355,-0.30472731590270996,-0.07243988662958145,0.04850631207227707,-0.145786315202713,-0.26718249917030334,-0.4001322090625763,-0.09776835888624191,-0.24773558974266052,-0.35380125045776367,-0.4178655743598938,-0.0027676443569362164,-0.3557037115097046,-0.10070884227752686,-0.44079068303108215,-0.32343339920043945,-0.7624374628067017,-0.06756343692541122,-0.42476886510849,-0.34533971548080444,-0.5103649497032166,-0.2471359223127365,-0.44072461128234863,-0.13300348818302155,-0.6989874243736267,-0.6870578527450562,-0.08053331822156906,-0.35443925857543945,-0.4543471932411194,-0.002537223044782877,-0.5356627702713013,-0.03041626140475273,-0.31703147292137146,-0.027627523988485336,-0.08889830857515335,-0.33771947026252747,-0.2998276352882385,-0.2797897458076477,0.16367845237255096,-0.4444001317024231,-0.5199050903320312,-0.6883414387702942,0.0743636041879654,-0.6228087544441223,0.018801819533109665,-0.27031978964805603,-0.1163596510887146,-0.42957112193107605,-0.624642550945282,-0.18192927539348602,-0.14782677590847015,0.21256330609321594,-0.029664361849427223,-0.2341577410697937,-0.19068275392055511,-0.20180721580982208,-0.4571801424026489,-0.6687657833099365,-0.1823292374610901,-0.3987337648868561,-0.25323885679244995,-0.7410798072814941,-0.0002998039126396179,0.16066624224185944,0.05414609983563423],\"yaxis\":\"y\",\"type\":\"scatter\"},{\"hovertemplate\":\"variable=Discriminator Loss\\u003cbr\\u003eEpoch=%{x}\\u003cbr\\u003evalue=%{y}\\u003cextra\\u003e\\u003c\\u002fextra\\u003e\",\"legendgroup\":\"Discriminator Loss\",\"line\":{\"color\":\"#01E0C9\",\"dash\":\"solid\"},\"marker\":{\"symbol\":\"circle\"},\"mode\":\"lines\",\"name\":\"Discriminator Loss\",\"orientation\":\"v\",\"showlegend\":true,\"x\":[0,1,2,3,4,5,6,7,8,9,10,11,12,13,14,15,16,17,18,19,20,21,22,23,24,25,26,27,28,29,30,31,32,33,34,35,36,37,38,39,40,41,42,43,44,45,46,47,48,49,50,51,52,53,54,55,56,57,58,59,60,61,62,63,64,65,66,67,68,69,70,71,72,73,74,75,76,77,78,79,80,81,82,83,84,85,86,87,88,89,90,91,92,93,94,95,96,97,98,99,100,101,102,103,104,105,106,107,108,109,110,111,112,113,114,115,116,117,118,119,120,121,122,123,124,125,126,127,128,129,130,131,132,133,134,135,136,137,138,139,140,141,142,143,144,145,146,147,148,149,150,151,152,153,154,155,156,157,158,159,160,161,162,163,164,165,166,167,168,169,170,171,172,173,174,175,176,177,178,179,180,181,182,183,184,185,186,187,188,189,190,191,192,193,194,195,196,197,198,199,200,201,202,203,204,205,206,207,208,209,210,211,212,213,214,215,216,217,218,219,220,221,222,223,224,225,226,227,228,229,230,231,232,233,234,235,236,237,238,239,240,241,242,243,244,245,246,247,248,249,250,251,252,253,254,255,256,257,258,259,260,261,262,263,264,265,266,267,268,269,270,271,272,273,274,275,276,277,278,279,280,281,282,283,284,285,286,287,288,289,290,291,292,293,294,295,296,297,298,299,300,301,302,303,304,305,306,307,308,309,310,311,312,313,314,315,316,317,318,319,320,321,322,323,324,325,326,327,328,329,330,331,332,333,334,335,336,337,338,339,340,341,342,343,344,345,346,347,348,349,350,351,352,353,354,355,356,357,358,359,360,361,362,363,364,365,366,367,368,369,370,371,372,373,374,375,376,377,378,379,380,381,382,383,384,385,386,387,388,389,390,391,392,393,394,395,396,397,398,399,400,401,402,403,404,405,406,407,408,409,410,411,412,413,414,415,416,417,418,419,420,421,422,423,424,425,426,427,428,429,430,431,432,433,434,435,436,437,438,439,440,441,442,443,444,445,446,447,448,449,450,451,452,453,454,455,456,457,458,459,460,461,462,463,464,465,466,467,468,469,470,471,472,473,474,475,476,477,478,479,480,481,482,483,484,485,486,487,488,489,490,491,492,493,494,495,496,497,498,499],\"xaxis\":\"x\",\"y\":[-0.043534547090530396,-0.006718873977661133,-0.07081383466720581,-0.0656048059463501,-0.1280914545059204,0.05060422420501709,0.09183478355407715,0.0156782865524292,0.07787322998046875,-0.0717921257019043,0.03899800777435303,-0.005849003791809082,0.01945662498474121,0.06368458271026611,0.025006651878356934,0.010909318923950195,-0.021063566207885742,0.005115509033203125,0.009611845016479492,-0.0394742488861084,-0.07245659828186035,-0.11872315406799316,-0.015768766403198242,0.03983736038208008,-0.12142658233642578,0.03231096267700195,-0.1434917449951172,-0.014518260955810547,0.014775991439819336,0.03922605514526367,-0.11374521255493164,0.0033037662506103516,-0.017893075942993164,-0.10449814796447754,0.03644204139709473,-0.03627324104309082,-0.12441110610961914,-0.03882193565368652,-0.03809189796447754,0.058968544006347656,0.009404420852661133,-0.013268232345581055,0.03007030487060547,0.09462833404541016,0.136566162109375,-0.00680851936340332,0.031162023544311523,-0.010114908218383789,-0.1197822093963623,-0.03302788734436035,-0.07831788063049316,-0.01756739616394043,0.04107308387756348,0.0565791130065918,0.04346919059753418,0.05588722229003906,-0.005908489227294922,0.0746617317199707,0.02629256248474121,-0.03945302963256836,0.05221438407897949,0.05503225326538086,-0.06768441200256348,-0.10827946662902832,0.0972752571105957,0.14002537727355957,0.009800910949707031,0.07665348052978516,0.04637455940246582,0.09239864349365234,-0.02589702606201172,-0.0660257339477539,-0.004796743392944336,0.06283998489379883,0.06755542755126953,0.05622410774230957,-0.05276989936828613,0.2725256681442261,0.06340765953063965,-0.020503997802734375,-0.05651533603668213,0.21504628658294678,-0.0836491584777832,-0.1535639762878418,0.16088104248046875,0.07031941413879395,0.016186237335205078,-0.015344381332397461,-0.06502938270568848,-0.020276546478271484,0.08708953857421875,0.02827310562133789,0.05604076385498047,-0.13558697700500488,0.05754280090332031,0.11237502098083496,-0.040053367614746094,0.007149934768676758,-0.07175087928771973,-0.09180927276611328,0.05322074890136719,0.05065035820007324,-0.02463078498840332,-0.06191587448120117,-0.1408100128173828,0.01426243782043457,-0.0618891716003418,-0.1715916395187378,-0.01402437686920166,-0.06513452529907227,-0.15120148658752441,-0.06100189685821533,0.039301276206970215,-0.022899150848388672,-0.008678078651428223,0.08505916595458984,-0.026073455810546875,-0.015207648277282715,0.006829261779785156,-0.10325908660888672,0.10017609596252441,-0.10040593147277832,0.09623062610626221,0.04169666767120361,0.12734663486480713,-0.019625067710876465,0.12599897384643555,0.039432406425476074,0.09289443492889404,-0.03170514106750488,0.042209625244140625,0.03325366973876953,0.07097029685974121,0.007996082305908203,-0.24168121814727783,-0.13755440711975098,-0.019220352172851562,0.06441915035247803,-0.11437499523162842,-0.06281840801239014,0.15736651420593262,-0.1641087532043457,0.02248978614807129,0.049996018409729004,0.05942487716674805,0.12524175643920898,-0.06000363826751709,0.17985618114471436,0.060388922691345215,-0.08659648895263672,0.12086045742034912,0.002079010009765625,0.12072420120239258,-0.19553065299987793,-0.1700904369354248,0.18593251705169678,-0.08109414577484131,-0.0588911771774292,-0.14576315879821777,-0.025339961051940918,-0.04021906852722168,-0.13411414623260498,-0.10685515403747559,0.011388659477233887,-0.06402778625488281,0.06799578666687012,0.08949518203735352,-0.05749523639678955,0.08347082138061523,0.25089842081069946,-0.04721629619598389,-0.09394419193267822,-0.05315089225769043,0.11871564388275146,-0.03456723690032959,-0.050116658210754395,-0.012462735176086426,-0.13657307624816895,0.19065630435943604,-0.11141860485076904,0.16743111610412598,0.14039218425750732,-0.05280566215515137,-0.02341485023498535,0.13767290115356445,0.023830652236938477,-0.011770367622375488,-0.09646284580230713,-0.13997477293014526,-0.14916539192199707,0.05662071704864502,-0.32115674018859863,-0.04226100444793701,0.08568829298019409,0.1755291223526001,0.3659924268722534,-0.09948503971099854,-0.15131014585494995,0.3133006691932678,-0.13592612743377686,0.15556609630584717,0.14586961269378662,-0.10397100448608398,0.02090209722518921,-0.05817079544067383,-0.24703651666641235,0.06078523397445679,-0.19194525480270386,-0.027052760124206543,-0.146087646484375,0.06160825490951538,-0.04826498031616211,-0.04191988706588745,-0.17982494831085205,0.04901587963104248,-0.06701630353927612,0.10467809438705444,-0.0467185378074646,-0.21510261297225952,-0.09611541032791138,0.016709566116333008,-0.03186911344528198,-0.059264957904815674,-0.1251600980758667,0.21291184425354004,-0.0025669336318969727,0.17283105850219727,0.03741049766540527,0.1108742356300354,0.22129106521606445,0.13740527629852295,0.13519185781478882,0.06674855947494507,0.02005559206008911,-0.09790533781051636,0.2596474587917328,0.49406158924102783,0.3785178065299988,0.15860027074813843,-0.1514148712158203,0.20921862125396729,0.19247639179229736,-0.04571974277496338,-0.2255285382270813,-0.0377812385559082,0.11927574872970581,-0.3094080090522766,0.021806925535202026,0.0023882389068603516,0.10361635684967041,0.5428574085235596,0.0738486647605896,0.18283438682556152,-0.11516338586807251,0.016216635704040527,-0.18732738494873047,0.2871149182319641,0.16542840003967285,0.16490918397903442,0.14236974716186523,-0.16636401414871216,0.2918851673603058,-0.3004998564720154,-0.23531708121299744,0.08904433250427246,0.4007723033428192,-0.17413640022277832,0.04478567838668823,-0.29395315051078796,-0.07337439060211182,-0.012169480323791504,-0.34417372941970825,0.0018600225448608398,-0.18727660179138184,-0.10900828242301941,-0.471619576215744,-0.2237938642501831,0.3179100453853607,-0.005654916167259216,0.39200225472450256,-0.10007911920547485,-0.06720374524593353,0.12554007768630981,-0.39140594005584717,0.11754763126373291,-0.14168155193328857,-0.14409899711608887,0.09480303525924683,0.21415388584136963,-0.1659926325082779,-0.3472217917442322,-0.14361612498760223,0.3321823477745056,0.04662540555000305,0.2784476578235626,0.18765634298324585,-0.21346023678779602,0.16875439882278442,-0.5259720683097839,0.23406612873077393,0.22229647636413574,0.020184576511383057,0.2580633759498596,0.7898117303848267,0.3573751449584961,0.5801784992218018,-0.4587019085884094,-0.05803534388542175,0.6065859198570251,-0.22389167547225952,0.8014421463012695,0.4221719801425934,0.9008744955062866,-0.10600435733795166,-0.1894327998161316,-0.3949810564517975,0.10472044348716736,0.3640387952327728,0.8413233757019043,-0.03321447968482971,0.23725762963294983,0.47386813163757324,0.6440387964248657,-0.09939269721508026,-0.023518778383731842,-0.12227606773376465,0.12941157817840576,-0.05990368127822876,0.10717561841011047,0.003920763731002808,-0.13580751419067383,-0.6787181496620178,0.31356051564216614,-0.029039442539215088,0.21370932459831238,0.006541192531585693,-0.10304734110832214,-0.20280706882476807,-0.1926739513874054,0.3344525694847107,-0.1814107894897461,-0.21199946105480194,-0.4142976999282837,-0.08443480730056763,0.5452703833580017,0.08078917860984802,0.0003388151526451111,-0.041397131979465485,-0.22089147567749023,-0.049465686082839966,0.3320472240447998,0.18421617150306702,0.23899424076080322,-0.1075437068939209,-0.260774701833725,-0.15530072152614594,-0.3385428488254547,0.6817589402198792,-0.07209736108779907,-0.09396734833717346,-0.4011401832103729,-0.5969455242156982,0.2588619887828827,0.013490550220012665,-0.25038447976112366,-0.29559120535850525,0.5123443603515625,0.16453149914741516,-1.0263699293136597,-0.5987728834152222,0.687583863735199,-0.05623406171798706,0.023693382740020752,-0.027514412999153137,-0.015493862330913544,0.5345103144645691,0.6000881791114807,-0.10879022628068924,0.32922500371932983,-0.4836960732936859,0.144010990858078,0.0378725528717041,-0.7499514818191528,0.2628228962421417,-0.1342102289199829,-0.7454879283905029,-0.00865328311920166,-0.49572867155075073,-0.4892324209213257,0.3414972126483917,-0.29933521151542664,-0.05576664209365845,0.21341654658317566,0.267979234457016,0.15218549966812134,0.5978077054023743,0.3234733045101166,-0.10533158481121063,-0.6217901706695557,-0.4996274411678314,0.06962311267852783,-0.06362435221672058,0.0014893114566802979,-0.6446496844291687,-0.17119671404361725,0.12469811737537384,0.3879989683628082,-0.43782705068588257,-0.06300459802150726,1.186600685119629,-0.26820552349090576,0.5962506532669067,0.02844149060547352,0.687749981880188,-0.496413916349411,0.047878265380859375,0.6760268211364746,-0.007667452096939087,0.3099684417247772,-0.5765882730484009,-0.22869938611984253,0.14350566267967224,-0.48356908559799194,-0.15086163580417633,-0.5056746602058411,0.4442293345928192,-0.03508612513542175,-0.3163781464099884,0.45265907049179077,0.03244795650243759,0.054361239075660706,0.5323134660720825,-0.3035539388656616,0.4534324109554291,-0.785355269908905,0.16048088669776917,0.11087474226951599,-0.10537450015544891,-0.4430219233036041,0.1011672168970108,0.1251491904258728,-1.0710570812225342,-0.7549164891242981,-0.07331405580043793,-0.4860363304615021,-0.3355866074562073,-0.29462575912475586,-0.541829526424408,-0.16661110520362854,-0.47039592266082764,0.47161251306533813,0.5266410708427429,0.44903695583343506,0.19340604543685913,0.1842207908630371,0.18599003553390503,-0.15590372681617737,-0.19657565653324127,-0.8901366591453552,0.5918411016464233,0.22204779088497162,-0.24975523352622986,-0.28916651010513306,0.0788683295249939,-0.3872569799423218,-0.22485101222991943,0.09535497426986694,0.19362115859985352,-0.1546337604522705,0.21744291484355927,0.32081106305122375,0.1371762901544571,-0.09467250108718872,-0.4042523205280304,-0.014849334955215454,0.09558801352977753,-0.421414315700531,-0.2497818022966385,-0.39202025532722473,-0.010467752814292908,0.2555091381072998,0.10608222335577011,0.1987501084804535,-0.2419005036354065,0.19670528173446655,-0.11732728779315948,0.2097238302230835,0.2935706377029419,0.8044911623001099,0.22105976939201355,-0.08605420589447021,-0.025915630161762238,0.021369218826293945,0.036351412534713745,-0.008521020412445068,0.4285733699798584,0.21961697936058044,-0.48339247703552246,-0.23362359404563904,0.02317015826702118],\"yaxis\":\"y\",\"type\":\"scatter\"}],                        {\"template\":{\"data\":{\"barpolar\":[{\"marker\":{\"line\":{\"color\":\"white\",\"width\":0.5},\"pattern\":{\"fillmode\":\"overlay\",\"size\":10,\"solidity\":0.2}},\"type\":\"barpolar\"}],\"bar\":[{\"error_x\":{\"color\":\"#2a3f5f\"},\"error_y\":{\"color\":\"#2a3f5f\"},\"marker\":{\"line\":{\"color\":\"white\",\"width\":0.5},\"pattern\":{\"fillmode\":\"overlay\",\"size\":10,\"solidity\":0.2}},\"type\":\"bar\"}],\"carpet\":[{\"aaxis\":{\"endlinecolor\":\"#2a3f5f\",\"gridcolor\":\"#C8D4E3\",\"linecolor\":\"#C8D4E3\",\"minorgridcolor\":\"#C8D4E3\",\"startlinecolor\":\"#2a3f5f\"},\"baxis\":{\"endlinecolor\":\"#2a3f5f\",\"gridcolor\":\"#C8D4E3\",\"linecolor\":\"#C8D4E3\",\"minorgridcolor\":\"#C8D4E3\",\"startlinecolor\":\"#2a3f5f\"},\"type\":\"carpet\"}],\"choropleth\":[{\"colorbar\":{\"outlinewidth\":0,\"ticks\":\"\"},\"type\":\"choropleth\"}],\"contourcarpet\":[{\"colorbar\":{\"outlinewidth\":0,\"ticks\":\"\"},\"type\":\"contourcarpet\"}],\"contour\":[{\"colorbar\":{\"outlinewidth\":0,\"ticks\":\"\"},\"colorscale\":[[0.0,\"#0d0887\"],[0.1111111111111111,\"#46039f\"],[0.2222222222222222,\"#7201a8\"],[0.3333333333333333,\"#9c179e\"],[0.4444444444444444,\"#bd3786\"],[0.5555555555555556,\"#d8576b\"],[0.6666666666666666,\"#ed7953\"],[0.7777777777777778,\"#fb9f3a\"],[0.8888888888888888,\"#fdca26\"],[1.0,\"#f0f921\"]],\"type\":\"contour\"}],\"heatmapgl\":[{\"colorbar\":{\"outlinewidth\":0,\"ticks\":\"\"},\"colorscale\":[[0.0,\"#0d0887\"],[0.1111111111111111,\"#46039f\"],[0.2222222222222222,\"#7201a8\"],[0.3333333333333333,\"#9c179e\"],[0.4444444444444444,\"#bd3786\"],[0.5555555555555556,\"#d8576b\"],[0.6666666666666666,\"#ed7953\"],[0.7777777777777778,\"#fb9f3a\"],[0.8888888888888888,\"#fdca26\"],[1.0,\"#f0f921\"]],\"type\":\"heatmapgl\"}],\"heatmap\":[{\"colorbar\":{\"outlinewidth\":0,\"ticks\":\"\"},\"colorscale\":[[0.0,\"#0d0887\"],[0.1111111111111111,\"#46039f\"],[0.2222222222222222,\"#7201a8\"],[0.3333333333333333,\"#9c179e\"],[0.4444444444444444,\"#bd3786\"],[0.5555555555555556,\"#d8576b\"],[0.6666666666666666,\"#ed7953\"],[0.7777777777777778,\"#fb9f3a\"],[0.8888888888888888,\"#fdca26\"],[1.0,\"#f0f921\"]],\"type\":\"heatmap\"}],\"histogram2dcontour\":[{\"colorbar\":{\"outlinewidth\":0,\"ticks\":\"\"},\"colorscale\":[[0.0,\"#0d0887\"],[0.1111111111111111,\"#46039f\"],[0.2222222222222222,\"#7201a8\"],[0.3333333333333333,\"#9c179e\"],[0.4444444444444444,\"#bd3786\"],[0.5555555555555556,\"#d8576b\"],[0.6666666666666666,\"#ed7953\"],[0.7777777777777778,\"#fb9f3a\"],[0.8888888888888888,\"#fdca26\"],[1.0,\"#f0f921\"]],\"type\":\"histogram2dcontour\"}],\"histogram2d\":[{\"colorbar\":{\"outlinewidth\":0,\"ticks\":\"\"},\"colorscale\":[[0.0,\"#0d0887\"],[0.1111111111111111,\"#46039f\"],[0.2222222222222222,\"#7201a8\"],[0.3333333333333333,\"#9c179e\"],[0.4444444444444444,\"#bd3786\"],[0.5555555555555556,\"#d8576b\"],[0.6666666666666666,\"#ed7953\"],[0.7777777777777778,\"#fb9f3a\"],[0.8888888888888888,\"#fdca26\"],[1.0,\"#f0f921\"]],\"type\":\"histogram2d\"}],\"histogram\":[{\"marker\":{\"pattern\":{\"fillmode\":\"overlay\",\"size\":10,\"solidity\":0.2}},\"type\":\"histogram\"}],\"mesh3d\":[{\"colorbar\":{\"outlinewidth\":0,\"ticks\":\"\"},\"type\":\"mesh3d\"}],\"parcoords\":[{\"line\":{\"colorbar\":{\"outlinewidth\":0,\"ticks\":\"\"}},\"type\":\"parcoords\"}],\"pie\":[{\"automargin\":true,\"type\":\"pie\"}],\"scatter3d\":[{\"line\":{\"colorbar\":{\"outlinewidth\":0,\"ticks\":\"\"}},\"marker\":{\"colorbar\":{\"outlinewidth\":0,\"ticks\":\"\"}},\"type\":\"scatter3d\"}],\"scattercarpet\":[{\"marker\":{\"colorbar\":{\"outlinewidth\":0,\"ticks\":\"\"}},\"type\":\"scattercarpet\"}],\"scattergeo\":[{\"marker\":{\"colorbar\":{\"outlinewidth\":0,\"ticks\":\"\"}},\"type\":\"scattergeo\"}],\"scattergl\":[{\"marker\":{\"colorbar\":{\"outlinewidth\":0,\"ticks\":\"\"}},\"type\":\"scattergl\"}],\"scattermapbox\":[{\"marker\":{\"colorbar\":{\"outlinewidth\":0,\"ticks\":\"\"}},\"type\":\"scattermapbox\"}],\"scatterpolargl\":[{\"marker\":{\"colorbar\":{\"outlinewidth\":0,\"ticks\":\"\"}},\"type\":\"scatterpolargl\"}],\"scatterpolar\":[{\"marker\":{\"colorbar\":{\"outlinewidth\":0,\"ticks\":\"\"}},\"type\":\"scatterpolar\"}],\"scatter\":[{\"fillpattern\":{\"fillmode\":\"overlay\",\"size\":10,\"solidity\":0.2},\"type\":\"scatter\"}],\"scatterternary\":[{\"marker\":{\"colorbar\":{\"outlinewidth\":0,\"ticks\":\"\"}},\"type\":\"scatterternary\"}],\"surface\":[{\"colorbar\":{\"outlinewidth\":0,\"ticks\":\"\"},\"colorscale\":[[0.0,\"#0d0887\"],[0.1111111111111111,\"#46039f\"],[0.2222222222222222,\"#7201a8\"],[0.3333333333333333,\"#9c179e\"],[0.4444444444444444,\"#bd3786\"],[0.5555555555555556,\"#d8576b\"],[0.6666666666666666,\"#ed7953\"],[0.7777777777777778,\"#fb9f3a\"],[0.8888888888888888,\"#fdca26\"],[1.0,\"#f0f921\"]],\"type\":\"surface\"}],\"table\":[{\"cells\":{\"fill\":{\"color\":\"#EBF0F8\"},\"line\":{\"color\":\"white\"}},\"header\":{\"fill\":{\"color\":\"#C8D4E3\"},\"line\":{\"color\":\"white\"}},\"type\":\"table\"}]},\"layout\":{\"annotationdefaults\":{\"arrowcolor\":\"#2a3f5f\",\"arrowhead\":0,\"arrowwidth\":1},\"autotypenumbers\":\"strict\",\"coloraxis\":{\"colorbar\":{\"outlinewidth\":0,\"ticks\":\"\"}},\"colorscale\":{\"diverging\":[[0,\"#8e0152\"],[0.1,\"#c51b7d\"],[0.2,\"#de77ae\"],[0.3,\"#f1b6da\"],[0.4,\"#fde0ef\"],[0.5,\"#f7f7f7\"],[0.6,\"#e6f5d0\"],[0.7,\"#b8e186\"],[0.8,\"#7fbc41\"],[0.9,\"#4d9221\"],[1,\"#276419\"]],\"sequential\":[[0.0,\"#0d0887\"],[0.1111111111111111,\"#46039f\"],[0.2222222222222222,\"#7201a8\"],[0.3333333333333333,\"#9c179e\"],[0.4444444444444444,\"#bd3786\"],[0.5555555555555556,\"#d8576b\"],[0.6666666666666666,\"#ed7953\"],[0.7777777777777778,\"#fb9f3a\"],[0.8888888888888888,\"#fdca26\"],[1.0,\"#f0f921\"]],\"sequentialminus\":[[0.0,\"#0d0887\"],[0.1111111111111111,\"#46039f\"],[0.2222222222222222,\"#7201a8\"],[0.3333333333333333,\"#9c179e\"],[0.4444444444444444,\"#bd3786\"],[0.5555555555555556,\"#d8576b\"],[0.6666666666666666,\"#ed7953\"],[0.7777777777777778,\"#fb9f3a\"],[0.8888888888888888,\"#fdca26\"],[1.0,\"#f0f921\"]]},\"colorway\":[\"#636efa\",\"#EF553B\",\"#00cc96\",\"#ab63fa\",\"#FFA15A\",\"#19d3f3\",\"#FF6692\",\"#B6E880\",\"#FF97FF\",\"#FECB52\"],\"font\":{\"color\":\"#2a3f5f\"},\"geo\":{\"bgcolor\":\"white\",\"lakecolor\":\"white\",\"landcolor\":\"white\",\"showlakes\":true,\"showland\":true,\"subunitcolor\":\"#C8D4E3\"},\"hoverlabel\":{\"align\":\"left\"},\"hovermode\":\"closest\",\"mapbox\":{\"style\":\"light\"},\"paper_bgcolor\":\"white\",\"plot_bgcolor\":\"white\",\"polar\":{\"angularaxis\":{\"gridcolor\":\"#EBF0F8\",\"linecolor\":\"#EBF0F8\",\"ticks\":\"\"},\"bgcolor\":\"white\",\"radialaxis\":{\"gridcolor\":\"#EBF0F8\",\"linecolor\":\"#EBF0F8\",\"ticks\":\"\"}},\"scene\":{\"xaxis\":{\"backgroundcolor\":\"white\",\"gridcolor\":\"#DFE8F3\",\"gridwidth\":2,\"linecolor\":\"#EBF0F8\",\"showbackground\":true,\"ticks\":\"\",\"zerolinecolor\":\"#EBF0F8\"},\"yaxis\":{\"backgroundcolor\":\"white\",\"gridcolor\":\"#DFE8F3\",\"gridwidth\":2,\"linecolor\":\"#EBF0F8\",\"showbackground\":true,\"ticks\":\"\",\"zerolinecolor\":\"#EBF0F8\"},\"zaxis\":{\"backgroundcolor\":\"white\",\"gridcolor\":\"#DFE8F3\",\"gridwidth\":2,\"linecolor\":\"#EBF0F8\",\"showbackground\":true,\"ticks\":\"\",\"zerolinecolor\":\"#EBF0F8\"}},\"shapedefaults\":{\"line\":{\"color\":\"#2a3f5f\"}},\"ternary\":{\"aaxis\":{\"gridcolor\":\"#DFE8F3\",\"linecolor\":\"#A2B1C6\",\"ticks\":\"\"},\"baxis\":{\"gridcolor\":\"#DFE8F3\",\"linecolor\":\"#A2B1C6\",\"ticks\":\"\"},\"bgcolor\":\"white\",\"caxis\":{\"gridcolor\":\"#DFE8F3\",\"linecolor\":\"#A2B1C6\",\"ticks\":\"\"}},\"title\":{\"x\":0.05},\"xaxis\":{\"automargin\":true,\"gridcolor\":\"#EBF0F8\",\"linecolor\":\"#EBF0F8\",\"ticks\":\"\",\"title\":{\"standoff\":15},\"zerolinecolor\":\"#EBF0F8\",\"zerolinewidth\":2},\"yaxis\":{\"automargin\":true,\"gridcolor\":\"#EBF0F8\",\"linecolor\":\"#EBF0F8\",\"ticks\":\"\",\"title\":{\"standoff\":15},\"zerolinecolor\":\"#EBF0F8\",\"zerolinewidth\":2}}},\"xaxis\":{\"anchor\":\"y\",\"domain\":[0.0,1.0],\"title\":{\"text\":\"Epoch\"}},\"yaxis\":{\"anchor\":\"x\",\"domain\":[0.0,1.0],\"title\":{\"text\":\"Loss\"}},\"legend\":{\"title\":{\"text\":\"\"},\"tracegroupgap\":0,\"orientation\":\"v\"},\"margin\":{\"t\":60},\"font\":{\"size\":18},\"plot_bgcolor\":\"#F5F5F8\",\"title\":{\"text\":\"CTGAN loss function\"}},                        {\"responsive\": true}                    ).then(function(){\n",
       "                            \n",
       "var gd = document.getElementById('0ad24147-7e30-41d0-b305-bb98d4c413d6');\n",
       "var x = new MutationObserver(function (mutations, observer) {{\n",
       "        var display = window.getComputedStyle(gd).display;\n",
       "        if (!display || display === 'none') {{\n",
       "            console.log([gd, 'removed!']);\n",
       "            Plotly.purge(gd);\n",
       "            observer.disconnect();\n",
       "        }}\n",
       "}});\n",
       "\n",
       "// Listen for the removal of the full notebook cells\n",
       "var notebookContainer = gd.closest('#notebook-container');\n",
       "if (notebookContainer) {{\n",
       "    x.observe(notebookContainer, {childList: true});\n",
       "}}\n",
       "\n",
       "// Listen for the clearing of the current output cell\n",
       "var outputEl = gd.closest('.output');\n",
       "if (outputEl) {{\n",
       "    x.observe(outputEl, {childList: true});\n",
       "}}\n",
       "\n",
       "                        })                };                });            </script>        </div>"
      ]
     },
     "metadata": {},
     "output_type": "display_data"
    }
   ],
   "source": [
    "fig = synthesizer.get_loss_values_plot()\n",
    "fig.show()"
   ]
  },
  {
   "cell_type": "code",
   "execution_count": 24,
   "id": "d53c45ff",
   "metadata": {
    "execution": {
     "iopub.execute_input": "2024-11-23T05:09:41.996234Z",
     "iopub.status.busy": "2024-11-23T05:09:41.995823Z",
     "iopub.status.idle": "2024-11-23T05:09:42.001373Z",
     "shell.execute_reply": "2024-11-23T05:09:42.000049Z"
    },
    "papermill": {
     "duration": 0.020089,
     "end_time": "2024-11-23T05:09:42.003944",
     "exception": false,
     "start_time": "2024-11-23T05:09:41.983855",
     "status": "completed"
    },
    "tags": []
   },
   "outputs": [],
   "source": [
    "# synthetic_data = synthetic_data.apply(lambda x: d[x.name].inverse_transform(x))\n"
   ]
  },
  {
   "cell_type": "code",
   "execution_count": 25,
   "id": "d11df7ee",
   "metadata": {
    "execution": {
     "iopub.execute_input": "2024-11-23T05:09:42.026713Z",
     "iopub.status.busy": "2024-11-23T05:09:42.026281Z",
     "iopub.status.idle": "2024-11-23T05:09:42.031421Z",
     "shell.execute_reply": "2024-11-23T05:09:42.030265Z"
    },
    "papermill": {
     "duration": 0.019329,
     "end_time": "2024-11-23T05:09:42.033941",
     "exception": false,
     "start_time": "2024-11-23T05:09:42.014612",
     "status": "completed"
    },
    "tags": []
   },
   "outputs": [],
   "source": [
    "# synthetic_data.to_csv('/kaggle/working/results.csv')"
   ]
  },
  {
   "cell_type": "code",
   "execution_count": null,
   "id": "e6c142dc",
   "metadata": {
    "papermill": {
     "duration": 0.010072,
     "end_time": "2024-11-23T05:09:42.054548",
     "exception": false,
     "start_time": "2024-11-23T05:09:42.044476",
     "status": "completed"
    },
    "tags": []
   },
   "outputs": [],
   "source": []
  }
 ],
 "metadata": {
  "kaggle": {
   "accelerator": "none",
   "dataSources": [
    {
     "databundleVersionId": 10008389,
     "sourceId": 84895,
     "sourceType": "competition"
    },
    {
     "datasetId": 6144236,
     "sourceId": 9984453,
     "sourceType": "datasetVersion"
    }
   ],
   "isGpuEnabled": false,
   "isInternetEnabled": true,
   "language": "python",
   "sourceType": "notebook"
  },
  "kernelspec": {
   "display_name": "Python 3",
   "language": "python",
   "name": "python3"
  },
  "language_info": {
   "codemirror_mode": {
    "name": "ipython",
    "version": 3
   },
   "file_extension": ".py",
   "mimetype": "text/x-python",
   "name": "python",
   "nbconvert_exporter": "python",
   "pygments_lexer": "ipython3",
   "version": "3.10.14"
  },
  "papermill": {
   "default_parameters": {},
   "duration": 12971.296748,
   "end_time": "2024-11-23T05:09:44.688625",
   "environment_variables": {},
   "exception": null,
   "input_path": "__notebook__.ipynb",
   "output_path": "__notebook__.ipynb",
   "parameters": {},
   "start_time": "2024-11-23T01:33:33.391877",
   "version": "2.6.0"
  }
 },
 "nbformat": 4,
 "nbformat_minor": 5
}
